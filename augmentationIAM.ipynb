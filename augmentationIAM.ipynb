{
 "cells": [
  {
   "attachments": {},
   "cell_type": "markdown",
   "metadata": {},
   "source": [
    "### Data augmentation of character images for training of classification model"
   ]
  },
  {
   "cell_type": "code",
   "execution_count": 26,
   "metadata": {},
   "outputs": [],
   "source": [
    "import os\n",
    "import sys\n",
    "import numpy as np\n",
    "import pandas as pd\n",
    "import cv2\n",
    "import random\n",
    "\n",
    "from matplotlib import pyplot as plt\n",
    "import seaborn as sns\n",
    "\n",
    "import imgaug as ia\n",
    "import imgaug.augmenters as iaa\n",
    "from skimage.transform import swirl\n",
    "\n",
    "from torchvision.io import read_image\n",
    "\n",
    "from PIL import Image\n",
    "\n",
    "from pathlib import Path\n",
    "\n",
    "import shutil"
   ]
  },
  {
   "cell_type": "code",
   "execution_count": 27,
   "metadata": {},
   "outputs": [],
   "source": [
    "# from google.colab import drive\n",
    "# drive.mount('/content/drive')"
   ]
  },
  {
   "cell_type": "code",
   "execution_count": 28,
   "metadata": {},
   "outputs": [],
   "source": [
    "# INPUT_FOLDER = r'/content/IAM-data'\n",
    "INPUT_FOLDER = r'/home/hkolstee/uniprojects/DATA/HWR/IAM-data/IAM-data'\n",
    "OUTPUT_FOLDER = INPUT_FOLDER + \"_augm\""
   ]
  },
  {
   "cell_type": "code",
   "execution_count": 29,
   "metadata": {},
   "outputs": [],
   "source": [
    "# check if input dir exists\n",
    "if os.path.isdir(INPUT_FOLDER):\n",
    "    # create output folder, delete if already exists\n",
    "    shutil.rmtree(OUTPUT_FOLDER, ignore_errors=True)\n",
    "    os.mkdir(OUTPUT_FOLDER)\n",
    "        "
   ]
  },
  {
   "cell_type": "code",
   "execution_count": 30,
   "metadata": {},
   "outputs": [
    {
     "name": "stdout",
     "output_type": "stream",
     "text": [
      "14916\n"
     ]
    },
    {
     "data": {
      "text/html": [
       "<div>\n",
       "<style scoped>\n",
       "    .dataframe tbody tr th:only-of-type {\n",
       "        vertical-align: middle;\n",
       "    }\n",
       "\n",
       "    .dataframe tbody tr th {\n",
       "        vertical-align: top;\n",
       "    }\n",
       "\n",
       "    .dataframe thead th {\n",
       "        text-align: right;\n",
       "    }\n",
       "</style>\n",
       "<table border=\"1\" class=\"dataframe\">\n",
       "  <thead>\n",
       "    <tr style=\"text-align: right;\">\n",
       "      <th></th>\n",
       "      <th>img_names</th>\n",
       "      <th>labels</th>\n",
       "    </tr>\n",
       "  </thead>\n",
       "  <tbody>\n",
       "    <tr>\n",
       "      <th>0</th>\n",
       "      <td>a03-017-07.png</td>\n",
       "      <td>into the pro-communist north and the</td>\n",
       "    </tr>\n",
       "    <tr>\n",
       "      <th>1</th>\n",
       "      <td>a03-017-05.png</td>\n",
       "      <td>to 1958 kept the kingdom in peace, though</td>\n",
       "    </tr>\n",
       "    <tr>\n",
       "      <th>2</th>\n",
       "      <td>a03-017-08.png</td>\n",
       "      <td>pro-western centre and south.</td>\n",
       "    </tr>\n",
       "    <tr>\n",
       "      <th>3</th>\n",
       "      <td>a03-017-02.png</td>\n",
       "      <td>in Phnom Penh indicate that he still regards</td>\n",
       "    </tr>\n",
       "    <tr>\n",
       "      <th>4</th>\n",
       "      <td>a03-017-06.png</td>\n",
       "      <td>at the cost of virtual partition of the country</td>\n",
       "    </tr>\n",
       "    <tr>\n",
       "      <th>...</th>\n",
       "      <td>...</td>\n",
       "      <td>...</td>\n",
       "    </tr>\n",
       "    <tr>\n",
       "      <th>7453</th>\n",
       "      <td>d06-000-08.png</td>\n",
       "      <td>fears are based upon completely</td>\n",
       "    </tr>\n",
       "    <tr>\n",
       "      <th>7454</th>\n",
       "      <td>d06-000-05.png</td>\n",
       "      <td>is worrying them, to find the original</td>\n",
       "    </tr>\n",
       "    <tr>\n",
       "      <th>7455</th>\n",
       "      <td>d06-000-09.png</td>\n",
       "      <td>irrational pre-conceived notions - or to</td>\n",
       "    </tr>\n",
       "    <tr>\n",
       "      <th>7456</th>\n",
       "      <td>d06-000-02.png</td>\n",
       "      <td>already suggested, not to be silly or</td>\n",
       "    </tr>\n",
       "    <tr>\n",
       "      <th>7457</th>\n",
       "      <td>d06-000-00.png</td>\n",
       "      <td>In the first place it is not a great deal</td>\n",
       "    </tr>\n",
       "  </tbody>\n",
       "</table>\n",
       "<p>7458 rows × 2 columns</p>\n",
       "</div>"
      ],
      "text/plain": [
       "           img_names                                           labels\n",
       "0     a03-017-07.png             into the pro-communist north and the\n",
       "1     a03-017-05.png        to 1958 kept the kingdom in peace, though\n",
       "2     a03-017-08.png                    pro-western centre and south.\n",
       "3     a03-017-02.png     in Phnom Penh indicate that he still regards\n",
       "4     a03-017-06.png  at the cost of virtual partition of the country\n",
       "...              ...                                              ...\n",
       "7453  d06-000-08.png                  fears are based upon completely\n",
       "7454  d06-000-05.png           is worrying them, to find the original\n",
       "7455  d06-000-09.png         irrational pre-conceived notions - or to\n",
       "7456  d06-000-02.png            already suggested, not to be silly or\n",
       "7457  d06-000-00.png        In the first place it is not a great deal\n",
       "\n",
       "[7458 rows x 2 columns]"
      ]
     },
     "execution_count": 30,
     "metadata": {},
     "output_type": "execute_result"
    }
   ],
   "source": [
    "raw_data = pd.read_fwf(os.path.join(INPUT_FOLDER, \"iam_lines_gt.txt\"), header = None)\n",
    "raw_data = raw_data.values.tolist()\n",
    "print(len(raw_data))\n",
    "\n",
    "data = {'img_names': np.squeeze(raw_data[::2]),\n",
    "        'labels': np.squeeze(raw_data[1::2])}\n",
    "\n",
    "data = pd.DataFrame(data)\n",
    "data"
   ]
  },
  {
   "attachments": {},
   "cell_type": "markdown",
   "metadata": {},
   "source": [
    "## Data augmentation   \n",
    "We will be using the package **imgaug**.   \n",
    "Data is still ***img_data*** and ***class_name***.\n",
    "\n",
    "### Augmentations:\n",
    "- Rotate\n",
    "- Scale\n",
    "- Gaussian noise\n",
    "- Shear (X/Y)\n",
    "- Translate (X/Y)\n",
    "- Swirl\n",
    "- Elastic transform\n",
    "- Random erase\n"
   ]
  },
  {
   "cell_type": "code",
   "execution_count": 82,
   "metadata": {},
   "outputs": [],
   "source": [
    "def rotate_image(input_img, rotation):\n",
    "    rot = iaa.Affine(rotate = rotation)\n",
    "    rotated_img = rot.augment_image(input_img)\n",
    "    return rotated_img\n",
    "\n",
    "def scale_image(input_img, percent):\n",
    "    scale = iaa.Affine(scale = percent)\n",
    "    scaled_img = scale.augment_image(input_img)\n",
    "    return scaled_img\n",
    "\n",
    "def gaussian_noise(input_img, std_of_normal):\n",
    "    noise = iaa.AdditiveGaussianNoise(scale = std_of_normal)\n",
    "    noisy_img = noise.augment_image(input_img)\n",
    "    return noisy_img\n",
    "\n",
    "def shearX_image(input_img, degree):\n",
    "    shear = iaa.ShearX(shear = degree)\n",
    "    sheared_img = shear.augment_image(input_img)\n",
    "    return sheared_img\n",
    "\n",
    "def shearY_image(input_img, degree):\n",
    "    shear = iaa.ShearY(shear = degree)\n",
    "    sheared_img = shear.augment_image(input_img)\n",
    "    return sheared_img\n",
    "\n",
    "def translateX(input_img, percent):\n",
    "    tX = iaa.TranslateX(percent = percent)\n",
    "    tX_img = tX.augment_image(input_img)\n",
    "    return tX_img\n",
    "\n",
    "def translateY(input_img, percent):\n",
    "    tY = iaa.TranslateY(percent = percent)\n",
    "    tY_img = tY.augment_image(input_img)\n",
    "    return tY_img\n",
    "\n",
    "def swirl_image(input_img, rotation, strength, radius):\n",
    "    swirled_img = swirl(input_img, rotation = rotation, strength = strength, radius = radius)\n",
    "    return swirled_img\n",
    "\n",
    "def elastic_transform(input_img, alpha, sigma):\n",
    "    elastic = iaa.ElasticTransformation(alpha = alpha, sigma = sigma, mode = \"nearest\")\n",
    "    elastic_img = elastic.augment_image(input_img)\n",
    "    return elastic_img\n",
    "\n",
    "# randomly erases a block of about 10% of the image\n",
    "def random_erase(input_img):\n",
    "    # create output img\n",
    "    output_img = np.copy(input_img)\n",
    "    \n",
    "    for i in range(2):\n",
    "        # get x and y coords\n",
    "        randomX1 = random.uniform(0., 0.7)\n",
    "        randomX2 = random.uniform(randomX1+0.075, 1.0)\n",
    "        randomY1 = random.uniform(0., 0.7)\n",
    "        randomY2 = (0.1125 / (abs(randomX1 - randomX2))) + randomY1\n",
    "\n",
    "        # loop over pixels to erase\n",
    "        for i in range(round(randomX1*27), round(randomX2*27)):\n",
    "            for j in range(round(randomY1*27), min(round(randomY2*27), 28)):\n",
    "                output_img[i][j] = 0.\n",
    "    \n",
    "    return output_img"
   ]
  },
  {
   "cell_type": "code",
   "execution_count": 32,
   "metadata": {},
   "outputs": [],
   "source": [
    "def random_augment(input_img, nr_of_augments):\n",
    "    # list of functions\n",
    "    functions = [lambda x : rotate_image(x, -15), lambda x : rotate_image(x, 15), lambda x : scale_image(x, 0.8), lambda x : scale_image(x, 1.2), \n",
    "                lambda x : gaussian_noise(x, 0.075), lambda x : shearX_image(x, 30), lambda x : shearX_image(x, -30), \n",
    "                lambda x : shearY_image(x, 30), lambda x : shearY_image(x, -30), lambda x : translateX(x, 0.1), \n",
    "                lambda x : translateX(x, -0.1), lambda x : translateY(x, 0.1), lambda x : translateY(x, -0.1), \n",
    "                lambda x : swirl_image(x, rotation = -0.15, strength = -1, radius = 30), \n",
    "                lambda x : swirl_image(x, rotation = 0.15, strength = 1, radius = 30), lambda x : random_erase(x),\n",
    "                lambda x : elastic_transform(x, 50, 8)]\n",
    "    \n",
    "    # copy input img\n",
    "    output_img = np.copy(input_img)\n",
    "    # apply augments\n",
    "    for i in range(nr_of_augments):\n",
    "        output_img = random.choice(functions)(output_img)\n",
    "        \n",
    "    return output_img    "
   ]
  },
  {
   "cell_type": "code",
   "execution_count": 33,
   "metadata": {},
   "outputs": [],
   "source": [
    "def display_images(image_list, title):\n",
    "    nr_images = len(image_list)\n",
    "    \n",
    "    # size of x axis in grid\n",
    "    x = int(np.floor(np.sqrt(nr_images)))\n",
    "    # size of y axis in grid\n",
    "    y = int(np.ceil(nr_images/x))\n",
    "    \n",
    "    fig, axs = plt.subplots(x, y)\n",
    "    axs = axs.flatten()\n",
    "    for (image, ax) in zip(image_list, axs):\n",
    "        ax.imshow(image, cmap = \"Greys\")\n",
    "    \n",
    "    fig.suptitle(title)\n",
    "    plt.show()"
   ]
  },
  {
   "cell_type": "code",
   "execution_count": 72,
   "metadata": {},
   "outputs": [
    {
     "name": "stdout",
     "output_type": "stream",
     "text": [
      "(142, 1761)\n"
     ]
    },
    {
     "data": {
      "text/plain": [
       "<matplotlib.image.AxesImage at 0x7f59e9c34fd0>"
      ]
     },
     "execution_count": 72,
     "metadata": {},
     "output_type": "execute_result"
    },
    {
     "data": {
      "image/png": "[encoded data removed]",
      "text/plain": [
       "<Figure size 640x480 with 1 Axes>"
      ]
     },
     "metadata": {},
     "output_type": "display_data"
    }
   ],
   "source": [
    "# we will be using image 1000 to showcase the augmentations\n",
    "input_img = read_image(os.path.join(INPUT_FOLDER, \"img\", data[\"img_names\"][1])).numpy()\n",
    "input_img = input_img.squeeze()\n",
    "\n",
    "print(input_img.shape)\n",
    "plt.imshow(input_img, cmap = \"gray\")\n"
   ]
  },
  {
   "cell_type": "code",
   "execution_count": 320,
   "metadata": {},
   "outputs": [
    {
     "name": "stdout",
     "output_type": "stream",
     "text": [
      "1\n"
     ]
    },
    {
     "data": {
      "text/plain": [
       "<matplotlib.image.AxesImage at 0x7f59d6cdc850>"
      ]
     },
     "execution_count": 320,
     "metadata": {},
     "output_type": "execute_result"
    },
    {
     "data": {
      "image/png": "[encoded data removed]",
      "text/plain": [
       "<Figure size 640x480 with 1 Axes>"
      ]
     },
     "metadata": {},
     "output_type": "display_data"
    }
   ],
   "source": [
    "\n",
    "# plt.imshow(input_img, cmap = \"gray\")\n",
    "# print(elastic_transform_img)\n",
    "i = np.random.randint(0, 2)\n",
    "print(i)\n",
    "if i == 0:\n",
    "    image = np.pad(input_img, ((np.random.randint(0, 30), np.random.randint(0, 30)), (np.random.randint(0, 250), 0)), constant_values = 255)\n",
    "else:\n",
    "    image = np.pad(input_img, ((np.random.randint(0, 30), np.random.randint(0, 30)), (0, np.random.randint(0, 250))), constant_values = 255)\n",
    "\n",
    "#  = np.pad(input_img, ((np.random.randint(0, 30), np.random.randint(0, 30)), (np.random.randint(0, 250), np.random.randint(0, 250))), constant_values = 255)\n",
    "elastic_transform_img = elastic_transform(image, 300, 20)\n",
    "# elastic_transform_img = translateX(elastic_transform_img)\n",
    "plt.imshow(elastic_transform_img, cmap = \"gray\")\n"
   ]
  },
  {
   "cell_type": "code",
   "execution_count": null,
   "metadata": {},
   "outputs": [],
   "source": [
    "# regular_augment_imgs = []\n",
    "# elastic_imgs = []\n",
    "# random_erase_imgs = []\n",
    "# random_augments_imgs = []\n",
    "\n",
    "# augmentations\n",
    "# rotated_img1 = rotate_image(input_img, -15)\n",
    "# rotated_img2 = rotate_image(input_img, 15)\n",
    "# scaled_img1 = scale_image(input_img, 0.8)\n",
    "# scaled_img2 = scale_image(input_img, 1.2)\n",
    "# gaussian_noise_img = gaussian_noise(input_img, 0.05)\n",
    "# shearedX_img1 = shearX_image(input_img, 15)\n",
    "# shearedX_img2 = shearX_image(input_img, -15)\n",
    "# shearedY_img1 = shearY_image(input_img, 15)\n",
    "# shearedY_img2 = shearY_image(input_img, -15)\n",
    "translateX_img1 = translateX(input_img, 0.1)\n",
    "# translateX_img2 = translateX(input_img, -0.1)\n",
    "# translateY_img1 = translateY(input_img, 0.1)\n",
    "# translateY_img2 = translateY(input_img, -0.1)\n",
    "# swirled_image1 = swirl_image(input_img, rotation = -0.15, strength = -1, radius = 30)\n",
    "# swirled_image2 = swirl_image(input_img, rotation = 0.15, strength = 1, radius = 30)\n",
    "\n",
    "# # append and display\n",
    "# regular_augment_imgs.append(input_img)\n",
    "# regular_augment_imgs.append(rotated_img1)\n",
    "# regular_augment_imgs.append(rotated_img2)\n",
    "# regular_augment_imgs.append(scaled_img1)\n",
    "# regular_augment_imgs.append(scaled_img2)\n",
    "# regular_augment_imgs.append(gaussian_noise_img)\n",
    "# regular_augment_imgs.append(shearedX_img1)\n",
    "# regular_augment_imgs.append(shearedX_img2)\n",
    "# regular_augment_imgs.append(shearedY_img1)\n",
    "# regular_augment_imgs.append(shearedY_img2)\n",
    "# regular_augment_imgs.append(translateY_img1)\n",
    "# regular_augment_imgs.append(translateY_img2)\n",
    "# regular_augment_imgs.append(translateX_img1)\n",
    "# regular_augment_imgs.append(translateX_img2)\n",
    "# regular_augment_imgs.append(swirled_image1)\n",
    "# regular_augment_imgs.append(swirled_image2)\n",
    "# display_images(regular_augment_imgs, \"Regular augmentations\")\n",
    "\n",
    "# # showcase elastic transformation\n",
    "# for i in range(20):\n",
    "#     image = elastic_transform(input_img, 50, 8)\n",
    "#     elastic_imgs.append(image)\n",
    "# display_images(elastic_imgs, \"Elastic transformation\")\n",
    "\n",
    "# # showcase random erase\n",
    "# for i in range(20):\n",
    "#     image = random_erase(input_img)\n",
    "#     random_erase_imgs.append(image)\n",
    "# display_images(random_erase_imgs, \"Random erasing\")\n",
    "\n",
    "# # showcase 3 random augments in succession\n",
    "# for i in range(20):\n",
    "#     image = random_augment(input_img, 2)\n",
    "#     random_augments_imgs.append(image)\n",
    "# display_images(random_augments_imgs, \"2 random succeeding augments\")"
   ]
  },
  {
   "attachments": {},
   "cell_type": "markdown",
   "metadata": {},
   "source": [
    "## Transform the dataset"
   ]
  },
  {
   "attachments": {},
   "cell_type": "markdown",
   "metadata": {},
   "source": [
    "### Check inbalance"
   ]
  },
  {
   "cell_type": "code",
   "execution_count": 14,
   "metadata": {},
   "outputs": [
    {
     "name": "stdout",
     "output_type": "stream",
     "text": [
      "Unique classes and number of images in train set:\n"
     ]
    },
    {
     "data": {
      "text/plain": [
       "{'Alef': 242,\n",
       " 'Ayin': 228,\n",
       " 'Bet': 240,\n",
       " 'Dalet': 74,\n",
       " 'Gimel': 230,\n",
       " 'He': 243,\n",
       " 'Het': 242,\n",
       " 'Kaf': 152,\n",
       " 'Kaf-final': 6,\n",
       " 'Lamed': 240,\n",
       " 'Mem': 231,\n",
       " 'Mem-medial': 245,\n",
       " 'Nun-final': 106,\n",
       " 'Nun-medial': 236,\n",
       " 'Pe': 27,\n",
       " 'Pe-final': 10,\n",
       " 'Qof': 202,\n",
       " 'Resh': 67,\n",
       " 'Samekh': 248,\n",
       " 'Shin': 226,\n",
       " 'Taw': 246,\n",
       " 'Tet': 246,\n",
       " 'Tsadi-final': 58,\n",
       " 'Tsadi-medial': 242,\n",
       " 'Waw': 91,\n",
       " 'Yod': 18,\n",
       " 'Zayin': 7}"
      ]
     },
     "execution_count": 14,
     "metadata": {},
     "output_type": "execute_result"
    }
   ],
   "source": [
    "classes, counts = np.unique(train_y, return_counts = True)\n",
    "\n",
    "data_dict = {}\n",
    "for (key, value) in zip(classes, counts):\n",
    "    data_dict[key] = value\n",
    "    \n",
    "print(f\"Unique classes and number of images in train set:\")\n",
    "data_dict"
   ]
  },
  {
   "attachments": {},
   "cell_type": "markdown",
   "metadata": {},
   "source": [
    "### Add all images to new augmented directory"
   ]
  },
  {
   "cell_type": "code",
   "execution_count": 15,
   "metadata": {},
   "outputs": [],
   "source": [
    "# image array and class name\n",
    "# img_data, class_names = create_dataset(INPUT_FOLDER)"
   ]
  },
  {
   "cell_type": "code",
   "execution_count": 16,
   "metadata": {},
   "outputs": [],
   "source": [
    "def saveImgs(imgs, labels, subdir):\n",
    "    # make subdir\n",
    "    if not os.path.isdir(os.path.join(OUTPUT_FOLDER, subdir)):\n",
    "        os.mkdir(os.path.join(OUTPUT_FOLDER, subdir))\n",
    "    \n",
    "    # train (this could maybe be in function)\n",
    "    for idx, (img, class_name) in enumerate(zip(imgs, labels)):\n",
    "        # check if folder exists\n",
    "        if not os.path.isdir(os.path.join(OUTPUT_FOLDER, subdir, class_name)):\n",
    "            # create folder\n",
    "            os.mkdir(os.path.join(OUTPUT_FOLDER, subdir, class_name))\n",
    "            # os.mkdir(os.path.join(OUTPUT_FOLDER, subdir, class_name))\n",
    "        \n",
    "        # add all original images to augmented directories\n",
    "        # invert\n",
    "        img = 1 - img\n",
    "        img *= 255\n",
    "        img = img.astype(\"int32\")\n",
    "        image = Image.fromarray(img)\n",
    "        image = image.convert(\"L\")\n",
    "        image.save(os.path.join(OUTPUT_FOLDER, subdir, class_name, class_name + str(idx) + \".jpg\"))"
   ]
  },
  {
   "cell_type": "code",
   "execution_count": 17,
   "metadata": {},
   "outputs": [],
   "source": [
    "saveImgs(train_x, train_y, \"train\")\n",
    "saveImgs(test_x, test_y, \"test\")"
   ]
  },
  {
   "attachments": {},
   "cell_type": "markdown",
   "metadata": {},
   "source": [
    "## Use ***elastic transform*** to add 150 images, then add 150 ***random erase*** chars"
   ]
  },
  {
   "cell_type": "code",
   "execution_count": 18,
   "metadata": {},
   "outputs": [],
   "source": [
    "for class_dir in os.listdir(os.path.join(OUTPUT_FOLDER, \"train\")):\n",
    "    # print(class_dir)\n",
    "    # determine how many images per class directory\n",
    "    # nr_of_files = len([name for name in os.listdir(os.path.join(OUTPUT_FOLDER, \"train\", class_dir)) if os.path.isfile(os.path.join(OUTPUT_FOLDER, \"train\", class_dir, name))])\n",
    "    # print(nr_of_files)\n",
    "    \n",
    "    # fill to 300 with elastic transforms\n",
    "    # if (nr_of_files < 300):\n",
    "    img_buffer = []\n",
    "    # print(300 - nr_of_files)\n",
    "    \n",
    "    # add elastic transform\n",
    "    for i in range(100):\n",
    "        # print(class_dir, i)\n",
    "        # select random file out of 300\n",
    "        image_filename = random.choice(os.listdir(os.path.join(OUTPUT_FOLDER, \"train\", class_dir)))\n",
    "        image = cv2.imread(os.path.join(OUTPUT_FOLDER, \"train\", class_dir, image_filename), -1)\n",
    "        image = cv2.resize(image, (IMG_HEIGHT, IMG_WIDTH), interpolation = cv2.INTER_AREA)\n",
    "        # # if image is not grayscale\n",
    "        if (image.shape != (IMG_WIDTH, IMG_HEIGHT)):\n",
    "            image = cv2.cvtColor(image, cv2.COLOR_BGR2GRAY)\n",
    "        # invert\n",
    "        image = cv2.bitwise_not(image)\n",
    "        image = np.array(image)\n",
    "        \n",
    "        # transform img\n",
    "        transformed_img = elastic_transform(image, 50, 8)\n",
    "        # invert after transform to prevent black border due to transform\n",
    "        transformed_img = cv2.bitwise_not(transformed_img)\n",
    "\n",
    "        # save transformed img\n",
    "        transformed_img = Image.fromarray(transformed_img)\n",
    "        # add img and file_name to buffer to not sample from transformed imgs\n",
    "        img_buffer.append((transformed_img, os.path.join(OUTPUT_FOLDER, \"train\", class_dir, Path(image_filename).stem + str(i) + \".jpg\")))\n",
    "        \n",
    "    # add elastic transform\n",
    "    for i in range(100):\n",
    "        # select random file\n",
    "        image_filename = random.choice(os.listdir(os.path.join(OUTPUT_FOLDER, \"train\", class_dir)))\n",
    "        image = cv2.imread(os.path.join(OUTPUT_FOLDER, \"train\", class_dir, image_filename), -1)\n",
    "        image = cv2.resize(image, (IMG_HEIGHT, IMG_WIDTH), interpolation = cv2.INTER_AREA)\n",
    "        # # if image is not grayscale\n",
    "        if (image.shape != (IMG_WIDTH, IMG_HEIGHT)):\n",
    "            image = cv2.cvtColor(image, cv2.COLOR_BGR2GRAY)\n",
    "        # invert\n",
    "        image = cv2.bitwise_not(image)\n",
    "        image = np.array(image)\n",
    "        \n",
    "        # transform img\n",
    "        transformed_img = random_erase(image)\n",
    "        # invert after transform to prevent black border due to transform\n",
    "        transformed_img = cv2.bitwise_not(transformed_img)\n",
    "\n",
    "        # save transformed img\n",
    "        transformed_img = Image.fromarray(transformed_img)\n",
    "        # add img and file_name to buffer to not sample from transformed imgs\n",
    "        img_buffer.append((transformed_img, os.path.join(OUTPUT_FOLDER, \"train\", class_dir, Path(image_filename).stem + str(i) + \".jpg\")))\n",
    "    \n",
    "    # add all transformed images in buffer to directory\n",
    "    # print(img_buffer)\n",
    "    for img, file_name in img_buffer:\n",
    "        # print(img.shape, file_name)\n",
    "        img.save(file_name)"
   ]
  },
  {
   "attachments": {},
   "cell_type": "markdown",
   "metadata": {},
   "source": [
    "### Check balance"
   ]
  },
  {
   "cell_type": "code",
   "execution_count": 19,
   "metadata": {},
   "outputs": [
    {
     "name": "stdout",
     "output_type": "stream",
     "text": [
      "Unique classes and number of images:\n"
     ]
    },
    {
     "data": {
      "text/plain": [
       "{'Alef': 441,\n",
       " 'Ayin': 428,\n",
       " 'Bet': 440,\n",
       " 'Dalet': 272,\n",
       " 'Gimel': 430,\n",
       " 'He': 443,\n",
       " 'Het': 441,\n",
       " 'Kaf': 352,\n",
       " 'Kaf-final': 187,\n",
       " 'Lamed': 440,\n",
       " 'Mem': 431,\n",
       " 'Mem-medial': 445,\n",
       " 'Nun-final': 306,\n",
       " 'Nun-medial': 433,\n",
       " 'Pe': 225,\n",
       " 'Pe-final': 204,\n",
       " 'Qof': 402,\n",
       " 'Resh': 266,\n",
       " 'Samekh': 446,\n",
       " 'Shin': 425,\n",
       " 'Taw': 446,\n",
       " 'Tet': 445,\n",
       " 'Tsadi-final': 258,\n",
       " 'Tsadi-medial': 442,\n",
       " 'Waw': 288,\n",
       " 'Yod': 211,\n",
       " 'Zayin': 190}"
      ]
     },
     "execution_count": 19,
     "metadata": {},
     "output_type": "execute_result"
    }
   ],
   "source": [
    "# image array and class name\n",
    "img_data, class_names = create_dataset(os.path.join(OUTPUT_FOLDER, \"train\"))\n",
    "# get number of uniques\n",
    "classes, counts = np.unique(class_names, return_counts = True)\n",
    "\n",
    "data_dict = {}\n",
    "for (key, value) in zip(classes, counts):\n",
    "    data_dict[key] = value\n",
    "\n",
    "print(f\"Unique classes and number of images:\")\n",
    "data_dict"
   ]
  },
  {
   "cell_type": "code",
   "execution_count": 20,
   "metadata": {},
   "outputs": [
    {
     "data": {
      "image/png": "[encoded data removed]",
      "text/plain": [
       "<Figure size 640x480 with 1 Axes>"
      ]
     },
     "metadata": {},
     "output_type": "display_data"
    }
   ],
   "source": [
    "df = pd.DataFrame(data_dict, index=[0])\n",
    "fig = sns.barplot(df)\n",
    "fig.set_xticklabels(fig.get_xticklabels(), rotation=-90, horizontalalignment='center')\n",
    "fig.set(title=\"Class distribution after balancing dataset with elastic transforms followed by random erasing\")\n",
    "plt.show()"
   ]
  }
 ],
 "metadata": {
  "kernelspec": {
   "display_name": "Python 3",
   "language": "python",
   "name": "python3"
  },
  "language_info": {
   "codemirror_mode": {
    "name": "ipython",
    "version": 3
   },
   "file_extension": ".py",
   "mimetype": "text/x-python",
   "name": "python",
   "nbconvert_exporter": "python",
   "pygments_lexer": "ipython3",
   "version": "3.8.10"
  },
  "orig_nbformat": 4
 },
 "nbformat": 4,
 "nbformat_minor": 2
}
