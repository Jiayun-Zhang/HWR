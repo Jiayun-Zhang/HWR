{
 "cells": [
  {
   "attachments": {},
   "cell_type": "markdown",
   "metadata": {},
   "source": [
    "# Initialize"
   ]
  },
  {
   "cell_type": "code",
   "execution_count": null,
   "metadata": {},
   "outputs": [],
   "source": [
    "import cv2\n",
    "from matplotlib import pyplot as plt\n",
    "plt.rcParams['figure.dpi'] = 100\n",
    "plt.rcParams['savefig.dpi'] = 100\n",
    "img = cv2.imread(\"../image-data/P123-Fg001-R-C01-R01-binarized.jpg\")\n",
    "plt.imshow(img)"
   ]
  },
  {
   "cell_type": "code",
   "execution_count": null,
   "metadata": {},
   "outputs": [],
   "source": [
    "# step 1: blur, more horizontally than vertically\n",
    "blur = cv2.GaussianBlur(img, (301,51), 0)\n",
    "plt.imshow(blur)"
   ]
  },
  {
   "cell_type": "code",
   "execution_count": null,
   "metadata": {},
   "outputs": [],
   "source": [
    "# step 2: threshold\n",
    "img_gray = cv2.cvtColor(blur, cv2.COLOR_BGR2GRAY)\n",
    "ret, thresh2 = cv2.threshold(img_gray, 200, 255, cv2.THRESH_BINARY_INV)\n",
    "plt.imshow(thresh2)"
   ]
  },
  {
   "cell_type": "code",
   "execution_count": null,
   "metadata": {},
   "outputs": [],
   "source": [
    "# step 3: dilate\n",
    "kernel = cv2.getStructuringElement(cv2.MORPH_RECT, (250,1))\n",
    "mask = cv2.morphologyEx(thresh2, cv2.MORPH_DILATE, kernel)\n",
    "plt.imshow(mask)"
   ]
  },
  {
   "cell_type": "code",
   "execution_count": null,
   "metadata": {},
   "outputs": [],
   "source": [
    "# step 4: identify contours and draw bounding boxes\n",
    "bboxes = []\n",
    "bboxes_img = img.copy()\n",
    "contours = cv2.findContours(mask, cv2.RETR_EXTERNAL, cv2.CHAIN_APPROX_SIMPLE)\n",
    "contours = contours[0] if len(contours) == 2 else contours[1]\n",
    "for cntr in contours:\n",
    "    x,y,w,h = cv2.boundingRect(cntr)\n",
    "    if w * h < 50000: continue\n",
    "    #cv2.rectangle(bboxes_img, (x, 2*y+h//2), (x+w, 2*y+h//2+h), (0,0,255), 2)\n",
    "    cv2.rectangle(bboxes_img, (x, y), (x+w, y+h), (0,0,255), 2)\n",
    "    bboxes.append((x,y,w,h))\n",
    "plt.imshow(bboxes_img)\n",
    "plt.show()"
   ]
  }
 ],
 "metadata": {
  "kernelspec": {
   "display_name": "Python 3",
   "language": "python",
   "name": "python3"
  },
  "language_info": {
   "codemirror_mode": {
    "name": "ipython",
    "version": 3
   },
   "file_extension": ".py",
   "mimetype": "text/x-python",
   "name": "python",
   "nbconvert_exporter": "python",
   "pygments_lexer": "ipython3",
   "version": "3.10.11"
  },
  "orig_nbformat": 4
 },
 "nbformat": 4,
 "nbformat_minor": 2
}
