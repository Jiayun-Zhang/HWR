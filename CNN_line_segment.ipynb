{
 "cells": [
  {
   "attachments": {},
   "cell_type": "markdown",
   "metadata": {},
   "source": [
    "## ***Text Line Segmentation for Challenging Handwritten Document Images Using Fully Convolutional Network https://arxiv.org/pdf/2101.08299.pdf***   \n",
    "\n",
    "BASED ON\n",
    "\n",
    "## ***Fully convolutional networks for semantic segmentation***\n",
    "Jonathan Long; Evan Shelhamer; Trevor Darrell\n",
    "Publisher: IEEE\n",
    "\n",
    "15412 Paper Citations\n",
    "\n",
    "263 Patent Citations\n",
    "\n",
    "## We use: UNET (also fully convolutional network)"
   ]
  },
  {
   "cell_type": "code",
   "execution_count": null,
   "metadata": {},
   "outputs": [],
   "source": [
    "import tensorflow as tf"
   ]
  }
 ],
 "metadata": {
  "language_info": {
   "name": "python"
  },
  "orig_nbformat": 4
 },
 "nbformat": 4,
 "nbformat_minor": 2
}
