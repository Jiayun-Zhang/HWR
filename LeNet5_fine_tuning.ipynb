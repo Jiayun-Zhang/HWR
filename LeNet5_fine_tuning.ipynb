{
 "cells": [
  {
   "cell_type": "code",
   "execution_count": 1,
   "id": "216368ae",
   "metadata": {},
   "outputs": [],
   "source": [
    "# Common\n",
    "import os\n",
    "import numpy as np\n",
    "import tensorflow as tf\n",
    "import pandas as pd\n",
    "import cv2\n",
    "import random\n",
    "\n",
    "# Data Splite\n",
    "from sklearn.model_selection import train_test_split\n",
    "\n",
    "# Models \n",
    "from keras.models import Sequential\n",
    "from keras.layers import Dense, Dropout, Flatten\n",
    "from keras.layers import Conv2D, MaxPooling2D,AveragePooling2D\n",
    "from keras.utils import np_utils\n",
    "import sklearn.metrics as metrics\n",
    "\n",
    "\n",
    "# Plot\n",
    "from  matplotlib import pyplot as plt\n",
    "import matplotlib.image as mpimg\n",
    "%matplotlib inline\n",
    "import seaborn as sns\n",
    "from sklearn.metrics import confusion_matrix"
   ]
  },
  {
   "cell_type": "code",
   "execution_count": 2,
   "id": "377204e1",
   "metadata": {},
   "outputs": [],
   "source": [
    "IMG_WIDTH=28\n",
    "IMG_HEIGHT=28\n",
    "img_folder=r'C:\\Users\\16645\\Desktop\\HWR\\monkbrill2'"
   ]
  },
  {
   "cell_type": "code",
   "execution_count": 5,
   "id": "fa0578d5",
   "metadata": {},
   "outputs": [],
   "source": [
    "def create_dataset(img_folder):\n",
    "   \n",
    "    img_data_array= []\n",
    "    class_name=[]\n",
    "   \n",
    "    for dir1 in os.listdir(img_folder):\n",
    "        for file in os.listdir(os.path.join(img_folder, dir1)):\n",
    "            image_path= os.path.join(img_folder, dir1,  file)\n",
    "            image= cv2.imread(image_path, -1)\n",
    "            image=cv2.resize(image, (IMG_HEIGHT, IMG_WIDTH),interpolation = cv2.INTER_AREA)\n",
    "            image=np.array(image)\n",
    "            image = image.astype('float32')\n",
    "            image /= 255 \n",
    "            img_data_array.append(image)\n",
    "            class_name.append(dir1)\n",
    "    return img_data_array, class_name\n",
    "# extract the image array and class name\n",
    "img_data, class_name =create_dataset(r'C:\\Users\\16645\\Desktop\\HWR\\monkbrill2')"
   ]
  },
  {
   "cell_type": "code",
   "execution_count": 6,
   "id": "992dde2f",
   "metadata": {},
   "outputs": [],
   "source": [
    "target_dict={k: v for v, k in enumerate(np.unique(class_name))}\n",
    "target_dict\n",
    "target_val=  [target_dict[class_name[i]] for i in range(len(class_name))]\n",
    "x = np.array(img_data, np.float32)\n",
    "from keras.utils.np_utils import *\n",
    "y = to_categorical(target_val)"
   ]
  },
  {
   "cell_type": "code",
   "execution_count": 7,
   "id": "a7ffc244",
   "metadata": {},
   "outputs": [],
   "source": [
    "X_train, X_test, y_train, y_test = train_test_split(x, y, train_size = 0.9) #90/10 split"
   ]
  },
  {
   "cell_type": "code",
   "execution_count": 33,
   "id": "93be8614",
   "metadata": {},
   "outputs": [
    {
     "name": "stdout",
     "output_type": "stream",
     "text": [
      "Model: \"sequential_2\"\n",
      "_________________________________________________________________\n",
      " Layer (type)                Output Shape              Param #   \n",
      "=================================================================\n",
      " conv2d_4 (Conv2D)           (None, 26, 26, 6)         60        \n",
      "                                                                 \n",
      " average_pooling2d_2 (Averag  (None, 13, 13, 6)        0         \n",
      " ePooling2D)                                                     \n",
      "                                                                 \n",
      " conv2d_5 (Conv2D)           (None, 11, 11, 16)        880       \n",
      "                                                                 \n",
      " average_pooling2d_3 (Averag  (None, 5, 5, 16)         0         \n",
      " ePooling2D)                                                     \n",
      "                                                                 \n",
      " flatten_2 (Flatten)         (None, 400)               0         \n",
      "                                                                 \n",
      " dense_6 (Dense)             (None, 120)               48120     \n",
      "                                                                 \n",
      " dense_7 (Dense)             (None, 84)                10164     \n",
      "                                                                 \n",
      " dense_8 (Dense)             (None, 10)                850       \n",
      "                                                                 \n",
      "=================================================================\n",
      "Total params: 60,074\n",
      "Trainable params: 60,074\n",
      "Non-trainable params: 0\n",
      "_________________________________________________________________\n"
     ]
    }
   ],
   "source": [
    "from tensorflow import keras\n",
    "source_model = keras.models.load_model(r\"C:\\Users\\16645\\Desktop\\HWR\")\n",
    "source_model.summary()"
   ]
  },
  {
   "cell_type": "code",
   "execution_count": 34,
   "id": "d814ce9d",
   "metadata": {},
   "outputs": [
    {
     "name": "stdout",
     "output_type": "stream",
     "text": [
      "Model: \"sequential_2\"\n",
      "_________________________________________________________________\n",
      " Layer (type)                Output Shape              Param #   \n",
      "=================================================================\n",
      " conv2d_4 (Conv2D)           (None, 26, 26, 6)         60        \n",
      "                                                                 \n",
      " average_pooling2d_2 (Averag  (None, 13, 13, 6)        0         \n",
      " ePooling2D)                                                     \n",
      "                                                                 \n",
      " conv2d_5 (Conv2D)           (None, 11, 11, 16)        880       \n",
      "                                                                 \n",
      " average_pooling2d_3 (Averag  (None, 5, 5, 16)         0         \n",
      " ePooling2D)                                                     \n",
      "                                                                 \n",
      " flatten_2 (Flatten)         (None, 400)               0         \n",
      "                                                                 \n",
      " dense_6 (Dense)             (None, 120)               48120     \n",
      "                                                                 \n",
      "=================================================================\n",
      "Total params: 49,060\n",
      "Trainable params: 49,060\n",
      "Non-trainable params: 0\n",
      "_________________________________________________________________\n"
     ]
    }
   ],
   "source": [
    "model = Sequential()\n",
    "for layer in source_model.layers[:-2]:  # remove the last 2 layers\n",
    "   model.add(layer)\n",
    "model.summary()\n",
    "model.add(Dense(units=84, activation='relu'))\n",
    "model.add(Dense(units=27, activation = 'softmax'))\n",
    "model.compile(optimizer=keras.optimizers.Adam(1e-2), loss='categorical_crossentropy', metrics=['accuracy'])"
   ]
  },
  {
   "cell_type": "code",
   "execution_count": 35,
   "id": "ef763f61",
   "metadata": {},
   "outputs": [
    {
     "name": "stdout",
     "output_type": "stream",
     "text": [
      "Model: \"sequential_2\"\n",
      "_________________________________________________________________\n",
      " Layer (type)                Output Shape              Param #   \n",
      "=================================================================\n",
      " conv2d_4 (Conv2D)           (None, 26, 26, 6)         60        \n",
      "                                                                 \n",
      " average_pooling2d_2 (Averag  (None, 13, 13, 6)        0         \n",
      " ePooling2D)                                                     \n",
      "                                                                 \n",
      " conv2d_5 (Conv2D)           (None, 11, 11, 16)        880       \n",
      "                                                                 \n",
      " average_pooling2d_3 (Averag  (None, 5, 5, 16)         0         \n",
      " ePooling2D)                                                     \n",
      "                                                                 \n",
      " flatten_2 (Flatten)         (None, 400)               0         \n",
      "                                                                 \n",
      " dense_6 (Dense)             (None, 120)               48120     \n",
      "                                                                 \n",
      " dense_4 (Dense)             (None, 84)                10164     \n",
      "                                                                 \n",
      " dense_5 (Dense)             (None, 27)                2295      \n",
      "                                                                 \n",
      "=================================================================\n",
      "Total params: 61,519\n",
      "Trainable params: 61,519\n",
      "Non-trainable params: 0\n",
      "_________________________________________________________________\n"
     ]
    }
   ],
   "source": [
    "model.summary()"
   ]
  },
  {
   "cell_type": "code",
   "execution_count": 36,
   "id": "1ff4f8e9",
   "metadata": {},
   "outputs": [],
   "source": [
    "# model = Sequential()\n",
    "\n",
    "# model.add(Conv2D(filters=6, kernel_size=(3, 3), activation='relu', input_shape=(28,28,1)))\n",
    "# model.add(AveragePooling2D())\n",
    "\n",
    "# model.add(Conv2D(filters=16, kernel_size=(3, 3), activation='relu'))\n",
    "# model.add(AveragePooling2D())\n",
    "\n",
    "# model.add(Flatten())\n",
    "\n",
    "# model.add(Dense(units=120, activation='relu'))\n",
    "\n",
    "# model.add(Dense(units=84, activation='relu'))\n",
    "\n",
    "# model.add(Dense(units=27, activation = 'softmax'))\n",
    "# model.summary()\n",
    "# model.compile(optimizer='adam', loss='categorical_crossentropy', metrics=['accuracy'])"
   ]
  },
  {
   "cell_type": "code",
   "execution_count": 37,
   "id": "e075f4df",
   "metadata": {},
   "outputs": [
    {
     "name": "stdout",
     "output_type": "stream",
     "text": [
      "Epoch 1/20\n",
      "39/39 - 1s - loss: 2.2349 - accuracy: 0.4574 - val_loss: 0.7709 - val_accuracy: 0.8014 - 700ms/epoch - 18ms/step\n",
      "Epoch 2/20\n",
      "39/39 - 0s - loss: 0.6133 - accuracy: 0.8385 - val_loss: 0.4353 - val_accuracy: 0.8809 - 296ms/epoch - 8ms/step\n",
      "Epoch 3/20\n",
      "39/39 - 0s - loss: 0.3795 - accuracy: 0.8904 - val_loss: 0.3869 - val_accuracy: 0.8827 - 301ms/epoch - 8ms/step\n",
      "Epoch 4/20\n",
      "39/39 - 0s - loss: 0.2813 - accuracy: 0.9119 - val_loss: 0.3431 - val_accuracy: 0.9079 - 307ms/epoch - 8ms/step\n",
      "Epoch 5/20\n",
      "39/39 - 0s - loss: 0.2096 - accuracy: 0.9312 - val_loss: 0.3004 - val_accuracy: 0.9079 - 309ms/epoch - 8ms/step\n",
      "Epoch 6/20\n",
      "39/39 - 0s - loss: 0.1990 - accuracy: 0.9348 - val_loss: 0.3505 - val_accuracy: 0.9043 - 310ms/epoch - 8ms/step\n",
      "Epoch 7/20\n",
      "39/39 - 0s - loss: 0.1605 - accuracy: 0.9460 - val_loss: 0.2846 - val_accuracy: 0.9170 - 310ms/epoch - 8ms/step\n",
      "Epoch 8/20\n",
      "39/39 - 0s - loss: 0.1313 - accuracy: 0.9540 - val_loss: 0.3140 - val_accuracy: 0.9188 - 310ms/epoch - 8ms/step\n",
      "Epoch 9/20\n",
      "39/39 - 0s - loss: 0.0994 - accuracy: 0.9665 - val_loss: 0.3019 - val_accuracy: 0.9260 - 311ms/epoch - 8ms/step\n",
      "Epoch 10/20\n",
      "39/39 - 0s - loss: 0.0964 - accuracy: 0.9655 - val_loss: 0.2866 - val_accuracy: 0.9350 - 313ms/epoch - 8ms/step\n",
      "Epoch 11/20\n",
      "39/39 - 0s - loss: 0.0819 - accuracy: 0.9691 - val_loss: 0.3361 - val_accuracy: 0.9188 - 311ms/epoch - 8ms/step\n",
      "Epoch 12/20\n",
      "39/39 - 0s - loss: 0.0929 - accuracy: 0.9677 - val_loss: 0.3153 - val_accuracy: 0.9278 - 312ms/epoch - 8ms/step\n",
      "Epoch 13/20\n",
      "39/39 - 0s - loss: 0.0851 - accuracy: 0.9703 - val_loss: 0.3856 - val_accuracy: 0.9170 - 316ms/epoch - 8ms/step\n",
      "Epoch 14/20\n",
      "39/39 - 0s - loss: 0.0937 - accuracy: 0.9655 - val_loss: 0.3212 - val_accuracy: 0.9188 - 310ms/epoch - 8ms/step\n",
      "Epoch 15/20\n",
      "39/39 - 0s - loss: 0.0490 - accuracy: 0.9815 - val_loss: 0.3554 - val_accuracy: 0.9332 - 343ms/epoch - 9ms/step\n",
      "Epoch 16/20\n",
      "39/39 - 0s - loss: 0.0470 - accuracy: 0.9825 - val_loss: 0.3840 - val_accuracy: 0.9224 - 330ms/epoch - 8ms/step\n",
      "Epoch 17/20\n",
      "39/39 - 0s - loss: 0.0485 - accuracy: 0.9797 - val_loss: 0.4916 - val_accuracy: 0.9206 - 317ms/epoch - 8ms/step\n",
      "Epoch 18/20\n",
      "39/39 - 0s - loss: 0.0568 - accuracy: 0.9791 - val_loss: 0.4361 - val_accuracy: 0.9188 - 356ms/epoch - 9ms/step\n",
      "Epoch 19/20\n",
      "39/39 - 0s - loss: 0.0867 - accuracy: 0.9735 - val_loss: 0.3690 - val_accuracy: 0.9278 - 318ms/epoch - 8ms/step\n",
      "Epoch 20/20\n",
      "39/39 - 0s - loss: 0.0523 - accuracy: 0.9839 - val_loss: 0.3317 - val_accuracy: 0.9386 - 316ms/epoch - 8ms/step\n"
     ]
    }
   ],
   "source": [
    "history = model.fit(x = X_train, y = y_train, batch_size=128, epochs=20, validation_data=(X_test, y_test),verbose = 2 )"
   ]
  },
  {
   "cell_type": "code",
   "execution_count": 38,
   "id": "79de4a97",
   "metadata": {},
   "outputs": [
    {
     "data": {
      "image/png": "[encoded data removed]",
      "text/plain": [
       "<Figure size 720x288 with 2 Axes>"
      ]
     },
     "metadata": {
      "needs_background": "light"
     },
     "output_type": "display_data"
    }
   ],
   "source": [
    "#Get Train/Validation -> accuracy and loss values for previous model trained\n",
    "accuracies = [model.history.history['accuracy'],model.history.history['val_accuracy']]\n",
    "losses = [model.history.history['loss'],model.history.history['val_loss']]\n",
    "\n",
    "fig, (ax1, ax2) = plt.subplots(nrows=1, ncols=2,figsize=(10,4))\n",
    "sns.lineplot(data=accuracies, ax=ax1)\n",
    "sns.lineplot(data=losses, ax=ax2)\n",
    "ax1.set(title = 'Model Accuracy', xlabel='Epochs', ylabel='Accuracy')\n",
    "ax2.set(title = 'Model Loss', xlabel='Epochs', ylabel='Loss')\n",
    "ax1.legend(['Train', 'Validation'], loc='upper left')\n",
    "ax2.legend(['Train', 'Validation'], loc='upper left')\n",
    "fig.subplots_adjust(top=0.85)"
   ]
  },
  {
   "cell_type": "code",
   "execution_count": 39,
   "id": "69fa059a",
   "metadata": {},
   "outputs": [
    {
     "name": "stdout",
     "output_type": "stream",
     "text": [
      "18/18 [==============================] - 0s 2ms/step - loss: 0.3317 - accuracy: 0.9386\n",
      "Test loss: 0.3316732347011566\n",
      "Test accuracy: 0.9386281371116638\n",
      "[[0. 0. 0. ... 0. 0. 0.]\n",
      " [0. 1. 0. ... 0. 0. 0.]\n",
      " [0. 0. 0. ... 0. 0. 0.]\n",
      " ...\n",
      " [0. 1. 0. ... 0. 0. 0.]\n",
      " [0. 1. 0. ... 0. 0. 0.]\n",
      " [0. 0. 0. ... 0. 0. 0.]]\n"
     ]
    }
   ],
   "source": [
    "# Model accuracy on Test Set\n",
    "test_loss, test_accuracy = model.evaluate(X_test, y_test)\n",
    "print(f\"Test loss: {test_loss}\")\n",
    "print(f\"Test accuracy: {test_accuracy}\")\n",
    "print(y_test)"
   ]
  },
  {
   "cell_type": "code",
   "execution_count": 40,
   "id": "0f72141d",
   "metadata": {},
   "outputs": [],
   "source": [
    "preds = model.predict(X_test)\n",
    "#Convert probabilities to class labels\n",
    "pred_classes = tf.argmax(preds, axis=1)\n",
    "y_test_classes = tf.argmax(y_test, axis=1)"
   ]
  },
  {
   "cell_type": "code",
   "execution_count": 41,
   "id": "6a4f7cac",
   "metadata": {},
   "outputs": [
    {
     "name": "stdout",
     "output_type": "stream",
     "text": [
      "tf.Tensor(\n",
      "[19  1 21 12 18  0  6 20 19 19  6 18 20 18  2  0 20  7 18 10  6 16  2  6\n",
      "  0 20  0  0 10 11  2  5  0 23  7 20 11  4  9 18  1  6  0  0  5  4  4 16\n",
      "  2 16 20  1 20 13  5 18  2  5 26 11 17  1 23  9  5  2  2  6  5 20 16  5\n",
      " 11 19  4 11  0 16 19 10  1 21 17 16 21 16  2 14 10  0  4 11 16  4 19 11\n",
      " 21 24 16 20 19 12 20  4 11  2  6 20 11 11  9 11  2 11  0  6  4  4 23  5\n",
      " 21 11  9 16 21 10  1 16  0 18  9  6 23  9 20  2 18 23 17 18  9 10  5 20\n",
      " 12 18 19 24 13  7 24  9 19  6  7  9 11  5  0 19  4 13  9  7 19 23  1 18\n",
      " 18 18  1  0 20 18  4  0 19 10  0 11  0 10 19  0  4 23 12  7 10  0  5  5\n",
      "  4 19 10 10 20 12  5 13  0  4 23  6  6  7 13 25 19 21  2  7  0 18 13 19\n",
      " 21  5 20 14 21  5  0  2  4  6  0 18 24 21 18 18 19 19  4 19 12  4  5  9\n",
      "  0  6 21 19 18  6  0  9  2  6 16 10 23  0 21  5 11  1 23  5 13  4 21 24\n",
      " 11 17 13 13  6 23 19 13 22 11 22 11  2  4  2 11  5 11  5  6 24 12 16 11\n",
      " 20 13 21  0  4 24 24 23  2  9  7  5  1  2  9 13  2 11  0 20  6  4 24  1\n",
      "  0 13 23  7  4 19  0 10  1 21  7  2  5  1 23  1  4  7  1  1 18 20 18  6\n",
      " 14 20  9 18  4 21  5 22 19 13  0 21  5  5  2  6  2 11 21  1 13  6 21  6\n",
      " 18 10  3 13  9  0  7  0  2 11 20  9 11 19  5 21  1  0 12  4 21 23  4  1\n",
      "  5 21  3 16 23  1 10  6  5  6 18 16  1  5 21 18  9 21 16 19  6 19  9  5\n",
      " 18 23  4 21 12 20  5 19 19 18 22 13  3 23 11  7 16 13  1 12  3 11  1  1\n",
      "  4 22 21 12  7  6 17  7  7  0 10 20  4 11 19 11  9 18  9 23 20 19 13  0\n",
      "  2  2 18  1 11 19 16 21 21  9  2  6  9 11 12  7  4  0  4 20  5 12 23 19\n",
      "  6 19  7 10 18 22  2 10 22 16 13 19  0 10  9  4 13 23  0  6  7  1 18  1\n",
      " 20 13  7 20  9 19  5  9  6  4 11  4 20  4  6  4  0  6  7 21 24 21  1  1\n",
      "  2  0 16 19 10  1 11 21 20  0  4 12 23  0 11  1  9 13  9 10  5  2 23  1\n",
      "  1 21], shape=(554,), dtype=int64)\n",
      "tf.Tensor(\n",
      "[19  1 21 26 21  0  6 20 19 19  6 18 20 18 11  0 20  7 21 10  6 16  2  6\n",
      "  0 20  0  0 10 11  2  5  0 23  7 20 11  4  9 18  1  6  0  0  5  6  4 16\n",
      "  2 16 20  1 20 13  5 18  2  5 12 11 17  1 23  9  5  2  2  6  5 20 16  5\n",
      " 11 19  4 11  0 16 19 10  1 21 17 16 21 16  2 14 10  0  4 11 16  4 19 11\n",
      " 21 24 16 20 19 12 20  4 11  2  6 20 11 11  9 11  7 11  0  6  4 20 23  5\n",
      " 21 11  9 16 21 10  1 16  0  7  9  6 23  9 20  2 18 23  8 18  9 10  5 20\n",
      " 12 18 19 12 13  7 24  9 21  6  7  9 11  5  0 19  4 13  9  7 19 23  1 18\n",
      " 18 18  1  0 20 18  0  0 19 10  0 11  0 10 19  0  4  2 12  7 10  0  5  5\n",
      "  4 19 10 10 20 24  5 13  0  4 23  6  6  7 13 25 19 21  2  7  0 18 13 19\n",
      " 21  5 20 14 21  5  0  2  4  6  0 18 24 21 18 18 19 19  4 19 12  4  5  9\n",
      "  0  6 21 19 18  6  0  9  2  6 16 10 23  0 21  5 11  1 23  5 13  4 21 24\n",
      " 11  3 13 13  6 23 19 13 22 11 22 11 18  4  2 11  5 11  5  6 24 12 16 11\n",
      " 10 13 18  0  4 24 24 23  2  9  7  5  1  2  9 13 11 11  0 20  6  4 24  1\n",
      "  0 13 23  7  4 19  0 10  1 21  7  2  5  1  1  1  4  7  1  1 18 20 18  6\n",
      "  2 20  9 18  4 21  5 22 19 13  0 11  5  5  2  6  2 11 11  1 13  6 19  6\n",
      " 18 10 17 13  9  0  7  0  2 11 20  9 11 19  5 21 23  0 12  4 21 23  0  1\n",
      "  5 21  3 16 23  1 19  6  5  6 18 16  1  5 21 18  9 21 16 19  6 19  9  5\n",
      " 18 23  4 10 12 20  5 19 19 18 22 13  3 23 11  7 16 13  1 12  3 11  1  1\n",
      "  4 22 21 12  7  6 17  7  7  0 10 20  4 11 19 11  9 18  9 23 20 19 13  0\n",
      "  2 24 18  1 11 19 16 21 21  9  2  6  9 11 12  7  4  0  4 20  5 12 23 19\n",
      "  6 19  7  7 18 22  2  9 22 16 13 19  0 10  9  4 13 23  0  6  7  1 18  1\n",
      " 20 13  7 20  9 19  5  9  6  4 11  4 20  4  6  4  0  6  7 21 24 21  1  1\n",
      "  7  0 16 19 10  1 11 21 20  0  4 12 23  0 11  1  9 13  9 10  5  2 23  1\n",
      "  1 21], shape=(554,), dtype=int64)\n"
     ]
    }
   ],
   "source": [
    "print(pred_classes)\n",
    "print(y_test_classes)"
   ]
  },
  {
   "cell_type": "code",
   "execution_count": 42,
   "id": "3051c34e",
   "metadata": {},
   "outputs": [
    {
     "data": {
      "image/png": "[encoded data removed]",
      "text/plain": [
       "<Figure size 432x288 with 2 Axes>"
      ]
     },
     "metadata": {
      "needs_background": "light"
     },
     "output_type": "display_data"
    }
   ],
   "source": [
    "#Plot confusion Matrix\n",
    "cm = confusion_matrix(y_test_classes, pred_classes)\n",
    "cm = cm.astype('float') / cm.sum(axis=1)[:, np.newaxis]\n",
    "f = sns.heatmap(cm, annot=False, fmt='.2f')"
   ]
  },
  {
   "cell_type": "code",
   "execution_count": 43,
   "id": "94c10538",
   "metadata": {},
   "outputs": [],
   "source": [
    "s1 = f.get_figure()\n",
    "s1.savefig('HeatMap.jpg',dpi=100)"
   ]
  },
  {
   "cell_type": "code",
   "execution_count": null,
   "id": "117ae7c1",
   "metadata": {},
   "outputs": [],
   "source": []
  }
 ],
 "metadata": {
  "kernelspec": {
   "display_name": "Python 3",
   "language": "python",
   "name": "python3"
  },
  "language_info": {
   "codemirror_mode": {
    "name": "ipython",
    "version": 3
   },
   "file_extension": ".py",
   "mimetype": "text/x-python",
   "name": "python",
   "nbconvert_exporter": "python",
   "pygments_lexer": "ipython3",
   "version": "3.7.9"
  }
 },
 "nbformat": 4,
 "nbformat_minor": 5
}
