{
 "cells": [
  {
   "attachments": {},
   "cell_type": "markdown",
   "metadata": {},
   "source": [
    "# Initialize"
   ]
  },
  {
   "cell_type": "code",
   "execution_count": null,
   "metadata": {},
   "outputs": [],
   "source": [
    "#imports\n",
    "import cv2\n",
    "from matplotlib import pyplot as plt\n",
    "\n",
    "import os\n",
    "\n",
    "# hyperparameters\n",
    "# output and inputs paths\n",
    "input_path = \"../image-data/\"\n",
    "output_path = \"../HWR_results/\"\n",
    "# rectangle dimensions for pre-processing dilation\n",
    "Dilate_pre = (1, 1)\n",
    "# rectangle dimensions for line-connecting dilation\n",
    "Dilate_line = (250, 1)\n",
    "# blur kernel dimensions for line-connection\n",
    "Line_blur = (301, 51)\n",
    "# vertical padding for line boxes\n",
    "Line_pad = 25\n",
    "# lower bound for thresholding\n",
    "Thresh_lb = 200\n",
    "# smallest area for segmented lines, anything smaller is filtered\n",
    "min_line_area = 50000\n",
    "# smallest area for segmented chars, anything smaller is filtered\n",
    "min_char_area = 500\n",
    "\n",
    "# idk how this works but it's some parameters for resizing plt images in a notebook\n",
    "plt.rcParams['figure.dpi'] = 100\n",
    "plt.rcParams['savefig.dpi'] = 100\n",
    "\n",
    "# utility function to extract a segment of an image\n",
    "def extract(img, x, y, w, h):\n",
    "    return img[y:y+h, x:x+w]"
   ]
  },
  {
   "attachments": {},
   "cell_type": "markdown",
   "metadata": {},
   "source": [
    "# Images"
   ]
  },
  {
   "cell_type": "code",
   "execution_count": null,
   "metadata": {},
   "outputs": [],
   "source": [
    "# list of all images\n",
    "imgs = [\n",
    "    \"P21-Fg006-R-C01-R01-binarized.jpg\",\n",
    "    \"P22-Fg008-R-C01-R01-binarized.jpg\",\n",
    "    \"P106-Fg002-R-C01-R01-binarized.jpg\",\n",
    "    \"P123-Fg001-R-C01-R01-binarized.jpg\",\n",
    "    \"P123-Fg002-R-C01-R01-binarized.jpg\",\n",
    "    \"P166-Fg002-R-C01-R01-binarized.jpg\",\n",
    "    \"P166-Fg007-R-C01-R01-binarized.jpg\",\n",
    "    \"P168-Fg016-R-C01-R01-binarized.jpg\",\n",
    "    \"P172-Fg001-R-C01-R01-binarized.jpg\",\n",
    "    \"P342-Fg001-R-C01-R01-binarized.jpg\",\n",
    "    \"P344-Fg001-R-C01-R01-binarized.jpg\",\n",
    "    \"P423-1-Fg002-R-C01-R01-binarized.jpg\",\n",
    "    \"P423-1-Fg002-R-C02-R01-binarized.jpg\",\n",
    "    \"P513-Fg001-R-C01-R01-binarized.jpg\",\n",
    "    \"P564-Fg003-R-C01-R01-binarized.jpg\",\n",
    "    \"P583-Fg002-R-C01-R01-binarized.jpg\",\n",
    "    \"P583-Fg006-R-C01-R01-binarized.jpg\",\n",
    "    \"P632-Fg001-R-C01-R01-binarized.jpg\",\n",
    "    \"P632-Fg002-R-C01-R01-binarized.jpg\",\n",
    "    \"P846-Fg001-R-C01-R01-binarized.jpg\",\n",
    "]\n",
    "\n",
    "# reads an image and does very initial pre-processing\n",
    "def read_and_process(path):\n",
    "    img = cv2.imread(path)\n",
    "    img = cv2.bitwise_not(img)\n",
    "    kernel = cv2.getStructuringElement(cv2.MORPH_RECT, Dilate_pre)\n",
    "    img = cv2.morphologyEx(img, cv2.MORPH_DILATE, kernel)\n",
    "    img = cv2.bitwise_not(img)\n",
    "    img = cv2.morphologyEx(img, cv2.MORPH_DILATE, kernel)\n",
    "    return img"
   ]
  },
  {
   "attachments": {},
   "cell_type": "markdown",
   "metadata": {},
   "source": [
    "# Draws bounding boxes on an image"
   ]
  },
  {
   "cell_type": "code",
   "execution_count": null,
   "metadata": {},
   "outputs": [],
   "source": [
    "def draw_boxes(img, bboxes):\n",
    "    bboxes_img = img.copy()\n",
    "    for x,y,w,h in bboxes:\n",
    "        cv2.rectangle(bboxes_img, (x, y), (x+w, y+h), (0,0,255), 2)\n",
    "    return bboxes_img"
   ]
  },
  {
   "attachments": {},
   "cell_type": "markdown",
   "metadata": {},
   "source": [
    "# Line segmentation"
   ]
  },
  {
   "cell_type": "code",
   "execution_count": null,
   "metadata": {},
   "outputs": [],
   "source": [
    "# full line segmentation function\n",
    "def segment_lines(img):\n",
    "    # step 1: blur, more horizontally than vertically\n",
    "    blur = cv2.GaussianBlur(img, Line_blur, 0)\n",
    "    # step 2: threshold\n",
    "    img_gray = cv2.cvtColor(blur, cv2.COLOR_BGR2GRAY)\n",
    "    ret, thresh2 = cv2.threshold(img_gray, Thresh_lb, 255, cv2.THRESH_BINARY_INV)\n",
    "    plt.imshow(thresh2)\n",
    "    # step 3: dilate\n",
    "    kernel = cv2.getStructuringElement(cv2.MORPH_RECT, Dilate_line)\n",
    "    mask = cv2.morphologyEx(thresh2, cv2.MORPH_DILATE, kernel)\n",
    "    plt.imshow(mask)\n",
    "    # step 4: identify contours\n",
    "    bboxes = []\n",
    "    contours = cv2.findContours(mask, cv2.RETR_EXTERNAL, cv2.CHAIN_APPROX_SIMPLE)\n",
    "    contours = contours[0] if len(contours) == 2 else contours[1]\n",
    "    # step 5: draw bounding boxes\n",
    "    for cntr in contours:\n",
    "        x,y,w,h = cv2.boundingRect(cntr)\n",
    "        y -= Line_pad\n",
    "        h += Line_pad * 2\n",
    "        if w * h < min_line_area: continue\n",
    "        bboxes.append((x,y,w,h))\n",
    "    return bboxes"
   ]
  },
  {
   "attachments": {},
   "cell_type": "markdown",
   "metadata": {},
   "source": [
    "# Character segmentation"
   ]
  },
  {
   "cell_type": "code",
   "execution_count": null,
   "metadata": {},
   "outputs": [],
   "source": [
    "# simple approach for now, warrants more research\n",
    "def segment_chars(img):\n",
    "    ret, img_thresh = cv2.threshold(img, Thresh_lb, 255, cv2.THRESH_BINARY_INV)\n",
    "    bboxes_chars = []\n",
    "    img_gray = cv2.cvtColor(img_thresh, cv2.COLOR_BGR2GRAY)\n",
    "    contours = cv2.findContours(img_gray, cv2.RETR_EXTERNAL, cv2.CHAIN_APPROX_SIMPLE)\n",
    "    contours = contours[0] if len(contours) == 2 else contours[1]\n",
    "    for cntr in contours:\n",
    "        x,y,w,h = cv2.boundingRect(cntr)\n",
    "        if w * h < min_char_area: continue\n",
    "        bboxes_chars.append((x,y,w,h))\n",
    "    return bboxes_chars"
   ]
  },
  {
   "attachments": {},
   "cell_type": "markdown",
   "metadata": {},
   "source": [
    "# Gather results"
   ]
  },
  {
   "cell_type": "code",
   "execution_count": null,
   "metadata": {},
   "outputs": [],
   "source": [
    "# creates folder ../HWR_results and writes a LOT of images\n",
    "if not os.path.exists(output_path):\n",
    "    os.mkdir(output_path)\n",
    "if not os.path.exists(output_path + \"line_boxes/\"):\n",
    "    os.mkdir(output_path + \"line_boxes/\")\n",
    "if not os.path.exists(output_path + \"lines/\"):\n",
    "    os.mkdir(output_path + \"lines/\")\n",
    "if not os.path.exists(output_path + \"char_boxes/\"):\n",
    "    os.mkdir(output_path + \"char_boxes/\")\n",
    "if not os.path.exists(output_path + \"chars/\"):\n",
    "    os.mkdir(output_path + \"chars/\")\n",
    "for path in imgs:\n",
    "\n",
    "    img = read_and_process(input_path + path)\n",
    "    bboxes = segment_lines(img)\n",
    "    linebox_img = draw_boxes(img, bboxes)\n",
    "    cv2.imwrite(output_path + \"line_boxes/\" + path[:-4] + \".bmp\", linebox_img)\n",
    "\n",
    "    line_n = 0\n",
    "    for x,y,w,h in bboxes:\n",
    "        line_img = extract(img, x, y, w, h)\n",
    "        cv2.imwrite(output_path + \"lines/\" + path[:-4] + \"-line\" + str(line_n) + \".bmp\", line_img)\n",
    "\n",
    "        bboxes_chars = segment_chars(line_img)\n",
    "        charbox_img = draw_boxes(line_img, bboxes_chars)\n",
    "        cv2.imwrite(output_path + \"char_boxes/\" + path[:-4] + \"-line\" + str(line_n) + \".bmp\", charbox_img)\n",
    "\n",
    "        char_n = 0\n",
    "        for x2, y2, w2, h2 in bboxes_chars:\n",
    "            char_img = extract(line_img, x2, y2, w2, h2)\n",
    "            cv2.imwrite(output_path + \"chars/\" + path[:-4] + \"-line\" + str(line_n) + \"-char\" + str(char_n) + \".bmp\", char_img)\n",
    "            char_n += 1\n",
    "        line_n += 1"
   ]
  }
 ],
 "metadata": {
  "kernelspec": {
   "display_name": "Python 3",
   "language": "python",
   "name": "python3"
  },
  "language_info": {
   "codemirror_mode": {
    "name": "ipython",
    "version": 3
   },
   "file_extension": ".py",
   "mimetype": "text/x-python",
   "name": "python",
   "nbconvert_exporter": "python",
   "pygments_lexer": "ipython3",
   "version": "3.10.11"
  },
  "orig_nbformat": 4
 },
 "nbformat": 4,
 "nbformat_minor": 2
}
