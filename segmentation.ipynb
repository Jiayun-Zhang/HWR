{
 "cells": [
  {
   "attachments": {},
   "cell_type": "markdown",
   "metadata": {},
   "source": [
    "# Initialize"
   ]
  },
  {
   "cell_type": "code",
   "execution_count": null,
   "metadata": {},
   "outputs": [],
   "source": [
    "#imports\n",
    "import cv2\n",
    "from matplotlib import pyplot as plt\n",
    "\n",
    "# hyperparameters\n",
    "# rectangle dimensions for pre-processing dilation\n",
    "Dilate_pre = (1, 1)\n",
    "# rectangle dimensions for line-connecting dilation\n",
    "Dilate_line = (250, 1)\n",
    "# blur kernel dimensions for line-connection\n",
    "Line_blur = (301, 51)\n",
    "# vertical padding for line boxes\n",
    "Line_pad = 25\n",
    "# lower bound for thresholding\n",
    "Thresh_lb = 200\n",
    "# smallest area for segmented lines, anything smaller is filtered\n",
    "min_line_area = 50000\n",
    "# smallest area for segmented chars, anything smaller is filtered\n",
    "min_char_area = 500\n",
    "\n",
    "# idk how this works but it's some parameters for resizing plt images in a notebook\n",
    "plt.rcParams['figure.dpi'] = 150\n",
    "plt.rcParams['savefig.dpi'] = 150\n",
    "\n",
    "# utility function to extract a segment of an image\n",
    "def extract(img, x, y, w, h):\n",
    "    return img[y:y+h, x:x+w]"
   ]
  },
  {
   "cell_type": "code",
   "execution_count": null,
   "metadata": {},
   "outputs": [],
   "source": [
    "# read the image and very initial pre-processing\n",
    "img = cv2.imread(\"../image-data/P123-Fg002-R-C01-R01-binarized.jpg\")\n",
    "img = cv2.bitwise_not(img)\n",
    "kernel = cv2.getStructuringElement(cv2.MORPH_RECT, Dilate_pre)\n",
    "img = cv2.morphologyEx(img, cv2.MORPH_DILATE, kernel)\n",
    "img = cv2.bitwise_not(img)\n",
    "img = cv2.morphologyEx(img, cv2.MORPH_DILATE, kernel)\n",
    "plt.imshow(img)"
   ]
  },
  {
   "attachments": {},
   "cell_type": "markdown",
   "metadata": {},
   "source": [
    "# line segmentation"
   ]
  },
  {
   "cell_type": "code",
   "execution_count": null,
   "metadata": {},
   "outputs": [],
   "source": [
    "# full line segmentation function\n",
    "def segment_lines(img):\n",
    "    # step 1: blur, more horizontally than vertically\n",
    "    blur = cv2.GaussianBlur(img, Line_blur, 0)\n",
    "    # step 2: threshold\n",
    "    img_gray = cv2.cvtColor(blur, cv2.COLOR_BGR2GRAY)\n",
    "    ret, thresh2 = cv2.threshold(img_gray, Thresh_lb, 255, cv2.THRESH_BINARY_INV)\n",
    "    plt.imshow(thresh2)\n",
    "    # step 3: dilate\n",
    "    kernel = cv2.getStructuringElement(cv2.MORPH_RECT, Dilate_line)\n",
    "    mask = cv2.morphologyEx(thresh2, cv2.MORPH_DILATE, kernel)\n",
    "    plt.imshow(mask)\n",
    "    # step 4: identify contours\n",
    "    bboxes = []\n",
    "    bboxes_img = img.copy()\n",
    "    contours = cv2.findContours(mask, cv2.RETR_EXTERNAL, cv2.CHAIN_APPROX_SIMPLE)\n",
    "    contours = contours[0] if len(contours) == 2 else contours[1]\n",
    "    # step 5: draw bounding boxes\n",
    "    for cntr in contours:\n",
    "        x,y,w,h = cv2.boundingRect(cntr)\n",
    "        y -= Line_pad\n",
    "        h += Line_pad * 2\n",
    "        if w * h < min_line_area: continue\n",
    "        cv2.rectangle(bboxes_img, (x, y), (x+w, y+h), (0,0,255), 2)\n",
    "        bboxes.append((x,y,w,h))\n",
    "    plt.imshow(bboxes_img)\n",
    "    plt.show()\n",
    "    return bboxes\n",
    "bboxes = segment_lines(img)"
   ]
  },
  {
   "cell_type": "code",
   "execution_count": null,
   "metadata": {},
   "outputs": [],
   "source": [
    "# draw all lines in img\n",
    "for x,y,w,h in bboxes:\n",
    "    line_img = extract(img, x, y, w, h)\n",
    "    plt.imshow(line_img)\n",
    "    plt.show()"
   ]
  },
  {
   "attachments": {},
   "cell_type": "markdown",
   "metadata": {},
   "source": [
    "# character segmentation"
   ]
  },
  {
   "cell_type": "code",
   "execution_count": null,
   "metadata": {},
   "outputs": [],
   "source": [
    "# simple approach for now, warrants more research\n",
    "def segment_chars(img):\n",
    "    ret, img_thresh = cv2.threshold(img, Thresh_lb, 255, cv2.THRESH_BINARY_INV)\n",
    "    bboxes_chars = []\n",
    "    bboxes_img = cv2.bitwise_not(img_thresh.copy())\n",
    "    img_gray = cv2.cvtColor(img_thresh, cv2.COLOR_BGR2GRAY)\n",
    "    contours = cv2.findContours(img_gray, cv2.RETR_EXTERNAL, cv2.CHAIN_APPROX_SIMPLE)\n",
    "    contours = contours[0] if len(contours) == 2 else contours[1]\n",
    "    for cntr in contours:\n",
    "        x,y,w,h = cv2.boundingRect(cntr)\n",
    "        if w * h < min_char_area: continue\n",
    "        cv2.rectangle(bboxes_img, (x, y), (x+w, y+h), (0,0,255), 2)\n",
    "        bboxes_chars.append((x,y,w,h))\n",
    "    plt.imshow(bboxes_img)\n",
    "    plt.show()\n",
    "    return bboxes_chars"
   ]
  },
  {
   "cell_type": "code",
   "execution_count": null,
   "metadata": {},
   "outputs": [],
   "source": [
    "# show all segmented characters in all lines\n",
    "char_imgs = []\n",
    "for x,y,w,h in bboxes:\n",
    "    line_img = extract(img, x, y, w, h)\n",
    "    bboxes_chars = segment_chars(line_img)\n",
    "    for x2,y2,w2,h2 in bboxes_chars:\n",
    "        char_imgs.append(extract(line_img, x2, y2, w2, h2))"
   ]
  }
 ],
 "metadata": {
  "kernelspec": {
   "display_name": "Python 3",
   "language": "python",
   "name": "python3"
  },
  "language_info": {
   "codemirror_mode": {
    "name": "ipython",
    "version": 3
   },
   "file_extension": ".py",
   "mimetype": "text/x-python",
   "name": "python",
   "nbconvert_exporter": "python",
   "pygments_lexer": "ipython3",
   "version": "3.10.11"
  },
  "orig_nbformat": 4
 },
 "nbformat": 4,
 "nbformat_minor": 2
}
