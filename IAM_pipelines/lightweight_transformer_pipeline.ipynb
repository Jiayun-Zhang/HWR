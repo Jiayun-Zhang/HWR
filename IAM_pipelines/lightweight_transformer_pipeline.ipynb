{
 "cells": [
  {
   "attachments": {},
   "cell_type": "markdown",
   "metadata": {},
   "source": [
    "# Lightweight Transformer-based Model for Handwritten Character Recognition \n",
    "(https://hal.science/hal-03685976/file/A_Light_Transformer_Based_Architecture_for_Handwritten_Text_Recognition.pdf)\n",
    "\n",
    "## ***note: Has a CNN backbone***\n",
    "\n",
    "-----------"
   ]
  },
  {
   "attachments": {},
   "cell_type": "markdown",
   "metadata": {},
   "source": [
    "## Architecture  \n",
    "Build up with a double Transformer architecture:  \n",
    "- Image transformer as encoder: Extracts the visual features\n",
    "- Text transformer as decoder: Language modeling, generates word-sections\n",
    "             sequence using visual features and previous predictions\n",
    "\n",
    "### Encoder:  \n",
    "- CNN Backbone (5 convolutions)\n",
    "- Sinusodial position encoding  \n",
    "- 4 layer transformer layer encoder\n",
    "\n",
    "### Decoder: \n",
    "- Takes encoder output and along with sequence of previously predicted characters\n",
    "- Additional loss in the middle of the network to help convergence\n",
    "\n",
    "### Hybrid loss:\n",
    "- CTC and CE Loss combined, CTC on intermediate encoder output, CE on decoder output\n",
    "\n",
    "--------------\n"
   ]
  },
  {
   "attachments": {},
   "cell_type": "markdown",
   "metadata": {},
   "source": [
    "## Start pipeline"
   ]
  },
  {
   "cell_type": "code",
   "execution_count": 1,
   "metadata": {},
   "outputs": [],
   "source": [
    "import sys\n",
    "import os\n",
    "\n",
    "from collections import OrderedDict, Counter\n",
    "\n",
    "import pandas as pd\n",
    "import numpy as np\n",
    "\n",
    "import torch\n",
    "import torch.nn as nn\n",
    "import torch.optim as optim\n",
    "\n",
    "import torchvision as tv\n",
    "from torchvision.io import read_image\n",
    "\n",
    "import torch.nn.functional as F\n",
    "\n",
    "from torch.utils.data import Dataset\n",
    "from torch.utils.data import DataLoader\n",
    "\n",
    "\n",
    "from PIL import Image\n",
    "\n",
    "from tqdm import tqdm\n",
    "\n",
    "import matplotlib.pyplot as plt\n",
    "\n",
    "from sklearn.model_selection import train_test_split"
   ]
  },
  {
   "attachments": {},
   "cell_type": "markdown",
   "metadata": {},
   "source": [
    "### Constants"
   ]
  },
  {
   "cell_type": "code",
   "execution_count": 2,
   "metadata": {},
   "outputs": [],
   "source": [
    "DATA_PATH = f\"/home/hkolstee/uniprojects/DATA/HWR/IAM-data/IAM-data/\"\n",
    "TRAIN_TEST_SPLIT = 0.2\n",
    "BATCH_SIZE = 64\n",
    "INPUT_HEIGHT = 128\n",
    "# input width -> largest width in batch\n",
    "#   images max resized and subsequently padded to get to width\n",
    "EPOCHS = 500"
   ]
  },
  {
   "attachments": {},
   "cell_type": "markdown",
   "metadata": {},
   "source": [
    "### Prepare Data"
   ]
  },
  {
   "cell_type": "code",
   "execution_count": 3,
   "metadata": {},
   "outputs": [
    {
     "data": {
      "text/html": [
       "<div>\n",
       "<style scoped>\n",
       "    .dataframe tbody tr th:only-of-type {\n",
       "        vertical-align: middle;\n",
       "    }\n",
       "\n",
       "    .dataframe tbody tr th {\n",
       "        vertical-align: top;\n",
       "    }\n",
       "\n",
       "    .dataframe thead th {\n",
       "        text-align: right;\n",
       "    }\n",
       "</style>\n",
       "<table border=\"1\" class=\"dataframe\">\n",
       "  <thead>\n",
       "    <tr style=\"text-align: right;\">\n",
       "      <th></th>\n",
       "      <th>img_names</th>\n",
       "      <th>labels</th>\n",
       "    </tr>\n",
       "  </thead>\n",
       "  <tbody>\n",
       "    <tr>\n",
       "      <th>0</th>\n",
       "      <td>a03-017-07.png</td>\n",
       "      <td>into the pro-communist north and the</td>\n",
       "    </tr>\n",
       "    <tr>\n",
       "      <th>1</th>\n",
       "      <td>a03-017-05.png</td>\n",
       "      <td>to 1958 kept the kingdom in peace, though</td>\n",
       "    </tr>\n",
       "    <tr>\n",
       "      <th>2</th>\n",
       "      <td>a03-017-08.png</td>\n",
       "      <td>pro-western centre and south.</td>\n",
       "    </tr>\n",
       "    <tr>\n",
       "      <th>3</th>\n",
       "      <td>a03-017-02.png</td>\n",
       "      <td>in Phnom Penh indicate that he still regards</td>\n",
       "    </tr>\n",
       "    <tr>\n",
       "      <th>4</th>\n",
       "      <td>a03-017-06.png</td>\n",
       "      <td>at the cost of virtual partition of the country</td>\n",
       "    </tr>\n",
       "    <tr>\n",
       "      <th>...</th>\n",
       "      <td>...</td>\n",
       "      <td>...</td>\n",
       "    </tr>\n",
       "    <tr>\n",
       "      <th>7453</th>\n",
       "      <td>d06-000-08.png</td>\n",
       "      <td>fears are based upon completely</td>\n",
       "    </tr>\n",
       "    <tr>\n",
       "      <th>7454</th>\n",
       "      <td>d06-000-05.png</td>\n",
       "      <td>is worrying them, to find the original</td>\n",
       "    </tr>\n",
       "    <tr>\n",
       "      <th>7455</th>\n",
       "      <td>d06-000-09.png</td>\n",
       "      <td>irrational pre-conceived notions - or to</td>\n",
       "    </tr>\n",
       "    <tr>\n",
       "      <th>7456</th>\n",
       "      <td>d06-000-02.png</td>\n",
       "      <td>already suggested, not to be silly or</td>\n",
       "    </tr>\n",
       "    <tr>\n",
       "      <th>7457</th>\n",
       "      <td>d06-000-00.png</td>\n",
       "      <td>In the first place it is not a great deal</td>\n",
       "    </tr>\n",
       "  </tbody>\n",
       "</table>\n",
       "<p>7458 rows × 2 columns</p>\n",
       "</div>"
      ],
      "text/plain": [
       "           img_names                                           labels\n",
       "0     a03-017-07.png             into the pro-communist north and the\n",
       "1     a03-017-05.png        to 1958 kept the kingdom in peace, though\n",
       "2     a03-017-08.png                    pro-western centre and south.\n",
       "3     a03-017-02.png     in Phnom Penh indicate that he still regards\n",
       "4     a03-017-06.png  at the cost of virtual partition of the country\n",
       "...              ...                                              ...\n",
       "7453  d06-000-08.png                  fears are based upon completely\n",
       "7454  d06-000-05.png           is worrying them, to find the original\n",
       "7455  d06-000-09.png         irrational pre-conceived notions - or to\n",
       "7456  d06-000-02.png            already suggested, not to be silly or\n",
       "7457  d06-000-00.png        In the first place it is not a great deal\n",
       "\n",
       "[7458 rows x 2 columns]"
      ]
     },
     "execution_count": 3,
     "metadata": {},
     "output_type": "execute_result"
    }
   ],
   "source": [
    "raw_data = pd.read_fwf(DATA_PATH + \"iam_lines_gt.txt\", header = None)\n",
    "raw_data = raw_data.values.tolist()\n",
    "\n",
    "data = {'img_names': np.squeeze(raw_data[::2]),\n",
    "        'labels': np.squeeze(raw_data[1::2])}\n",
    "\n",
    "data = pd.DataFrame(data)\n",
    "data"
   ]
  },
  {
   "cell_type": "code",
   "execution_count": 4,
   "metadata": {},
   "outputs": [
    {
     "name": "stdout",
     "output_type": "stream",
     "text": [
      "an Italian who is perhaps the best Valet de Chambre\n"
     ]
    },
    {
     "data": {
      "text/plain": [
       "<matplotlib.image.AxesImage at 0x7f2ecf4e6190>"
      ]
     },
     "execution_count": 4,
     "metadata": {},
     "output_type": "execute_result"
    },
    {
     "data": {
      "image/png": "[encoded data removed]",
      "text/plain": [
       "<Figure size 640x480 with 1 Axes>"
      ]
     },
     "metadata": {},
     "output_type": "display_data"
    }
   ],
   "source": [
    "# example\n",
    "ex_label = \"an Italian who is perhaps the best Valet de Chambre\" \n",
    "print(ex_label)\n",
    "# print(data['labels'][0])\n",
    "image = read_image(os.path.join(DATA_PATH, \"img\", \"g06-026i-01.png\"))\n",
    "plt.imshow(image[0, :, :], cmap = \"gray\")"
   ]
  },
  {
   "attachments": {},
   "cell_type": "markdown",
   "metadata": {},
   "source": [
    "first, we need the input/image width we have to resize the images to.  \n",
    "This is the largest image width in the entire batch of images (source paper randomly added/removed new augments each training epoch).   \n",
    "For now we just take the largest width in the original images.  \n",
    "  \n",
    "The labels are later padded to the largest label size in the dataset, such that we also need to know the longest label size."
   ]
  },
  {
   "cell_type": "code",
   "execution_count": 5,
   "metadata": {},
   "outputs": [],
   "source": [
    "def getBiggestWidth(data: pd.DataFrame):\n",
    "    biggest_width = 0\n",
    "\n",
    "    for index in range(len(data['img_names'])):\n",
    "        image_path = os.path.join(DATA_PATH, \"img\", data['img_names'][index])\n",
    "        image = read_image(image_path)\n",
    "        \n",
    "        if (image.size(2) > biggest_width):\n",
    "            biggest_width = image.size(2)\n",
    "\n",
    "    return biggest_width\n",
    "\n",
    "def getLongestLabel(data: pd.DataFrame):\n",
    "    longest = 0\n",
    "    \n",
    "    for index in range(len(data['labels'])):\n",
    "        if (len(data['labels'][index]) > longest):\n",
    "            longest = len(data['labels'][index])\n",
    "            \n",
    "    return longest"
   ]
  },
  {
   "attachments": {},
   "cell_type": "markdown",
   "metadata": {},
   "source": [
    "Biggest width needed to pad all images to this width for the input into the encoder.  \n",
    "Longest label needed to pad all labels to this length for the input into the decoder."
   ]
  },
  {
   "cell_type": "code",
   "execution_count": 6,
   "metadata": {},
   "outputs": [
    {
     "name": "stdout",
     "output_type": "stream",
     "text": [
      "2260\n",
      "56\n"
     ]
    }
   ],
   "source": [
    "input_width = getBiggestWidth(data)\n",
    "print(input_width)\n",
    "\n",
    "longest_label = getLongestLabel(data)\n",
    "# <BOS> and <EOS> tokens not counted\n",
    "longest_label += 2\n",
    "print(longest_label)"
   ]
  },
  {
   "attachments": {},
   "cell_type": "markdown",
   "metadata": {},
   "source": [
    "### TODO: Data augmentation"
   ]
  },
  {
   "attachments": {},
   "cell_type": "markdown",
   "metadata": {},
   "source": [
    "### Resize and pad images to largest width in dataset  \n",
    "### ***NOTE: Not sure if padding should be all at the right part of the image or both sides***"
   ]
  },
  {
   "cell_type": "code",
   "execution_count": 7,
   "metadata": {},
   "outputs": [],
   "source": [
    "# resizes to largest width in batch x 128, keeping aspect ratio and padding image\n",
    "def resizeImage(image, resize_width, resize_height):\n",
    "    # check if resizing to correct height while keeping aspect ratio does not overshoot correct width\n",
    "    aspect_ratio_width = int((resize_height / image.size(1)) * image.size(2))\n",
    "    if (aspect_ratio_width > resize_width):\n",
    "        # calculate max ratio of change for not overshooting resize width while keeping aspect ratio \n",
    "        max_ratio = resize_width / image.size(2)\n",
    "        max_resize_height = int(max_ratio * image.size(1))\n",
    "        # calc up and down padding\n",
    "        padding_up = int(((resize_height - max_resize_height) / 2))\n",
    "        padding_down = resize_height - max_resize_height - padding_up\n",
    "        # change resize height to max calculated resize height\n",
    "        resize_height = max_resize_height\n",
    "    else:\n",
    "        padding_up = 0\n",
    "        padding_down = 0\n",
    "\n",
    "    # resize to correct image height, while keeping aspect ratio\n",
    "    resize_transform = tv.transforms.Resize((resize_height, resize_width), antialias = True)\n",
    "    resized = resize_transform(image)\n",
    "    \n",
    "    # pad to correct width (and height if necessary)\n",
    "    padding_left = int(((resize_width - resized.size(2)) / 2))\n",
    "    padding_right = resize_width - resized.size(2) - padding_left\n",
    "    resized_padded = F.pad(resized, (padding_left, padding_right, padding_up, padding_down), mode = \"constant\", value = 255)\n",
    "\n",
    "    return resized_padded"
   ]
  },
  {
   "attachments": {},
   "cell_type": "markdown",
   "metadata": {},
   "source": [
    "\n",
    "This example because it previously overshot the correct width using the height measurements for the aspect ratio."
   ]
  },
  {
   "cell_type": "code",
   "execution_count": 8,
   "metadata": {},
   "outputs": [
    {
     "name": "stdout",
     "output_type": "stream",
     "text": [
      "an Italian who is perhaps the best Valet de Chambre\n",
      "torch.Size([1, 86, 1758])\n",
      "torch.Size([1, 128, 2260])\n",
      "torch.uint8\n"
     ]
    },
    {
     "data": {
      "image/png": "[encoded data removed]",
      "text/plain": [
       "<Figure size 640x480 with 1 Axes>"
      ]
     },
     "metadata": {},
     "output_type": "display_data"
    }
   ],
   "source": [
    "print(ex_label)\n",
    "image = read_image(os.path.join(DATA_PATH, \"img\", \"g06-026i-01.png\"))\n",
    "print(image.shape)\n",
    "\n",
    "resized_image = resizeImage(image, input_width, INPUT_HEIGHT)\n",
    "plt.imshow(resized_image[0, :, :], cmap = \"gray\")\n",
    "print(resized_image.shape)\n",
    "print(resized_image.dtype)"
   ]
  },
  {
   "attachments": {},
   "cell_type": "markdown",
   "metadata": {},
   "source": [
    "Resize and pad for the whole dataset and save in a new dir such that we don't have to do this each epoch. TODO"
   ]
  },
  {
   "attachments": {},
   "cell_type": "markdown",
   "metadata": {},
   "source": [
    "### Train test split"
   ]
  },
  {
   "cell_type": "code",
   "execution_count": 9,
   "metadata": {},
   "outputs": [],
   "source": [
    "train, test = train_test_split(data, test_size = TRAIN_TEST_SPLIT)\n",
    "\n",
    "# reset indices from current random state\n",
    "train.reset_index(inplace = True)\n",
    "test.reset_index(inplace = True)"
   ]
  },
  {
   "attachments": {},
   "cell_type": "markdown",
   "metadata": {},
   "source": [
    "### Create custom pytorch dataset"
   ]
  },
  {
   "attachments": {},
   "cell_type": "markdown",
   "metadata": {},
   "source": [
    "\n",
    "For character level embedding (decoder input) we find out how many characters are present in the dataset. By counting the characters we give the most common characters the lowest indices"
   ]
  },
  {
   "cell_type": "code",
   "execution_count": 10,
   "metadata": {},
   "outputs": [],
   "source": [
    "# returns a dict of uniques chars sorted on how common they are in the dataset labels\n",
    "def uniqueCharsByMostCommon(data: pd.DataFrame):\n",
    "    sortedDict = OrderedDict(Counter(''.join(data['labels'].values)).most_common())\n",
    "    newDict = {}\n",
    "    \n",
    "    # first add pad, begin of sentence, and end of sentence tokens\n",
    "    newDict[\"<PAD>\"] = 0\n",
    "    newDict[\"<BOS>\"] = 1\n",
    "    newDict[\"<EOS>\"] = 2\n",
    "    \n",
    "    for idx, char in enumerate(sortedDict):\n",
    "        newDict[char] = idx + 3\n",
    "    \n",
    "    return newDict"
   ]
  },
  {
   "cell_type": "code",
   "execution_count": 11,
   "metadata": {},
   "outputs": [
    {
     "data": {
      "text/plain": [
       "{'<PAD>': 0,\n",
       " '<BOS>': 1,\n",
       " '<EOS>': 2,\n",
       " ' ': 3,\n",
       " 'e': 4,\n",
       " 't': 5,\n",
       " 'a': 6,\n",
       " 'o': 7,\n",
       " 'n': 8,\n",
       " 'i': 9,\n",
       " 's': 10,\n",
       " 'r': 11,\n",
       " 'h': 12,\n",
       " 'l': 13,\n",
       " 'd': 14,\n",
       " 'c': 15,\n",
       " 'u': 16,\n",
       " 'm': 17,\n",
       " 'f': 18,\n",
       " 'p': 19,\n",
       " 'w': 20,\n",
       " 'g': 21,\n",
       " 'y': 22,\n",
       " 'b': 23,\n",
       " '.': 24,\n",
       " ',': 25,\n",
       " 'v': 26,\n",
       " 'k': 27,\n",
       " \"'\": 28,\n",
       " '\"': 29,\n",
       " '-': 30,\n",
       " 'T': 31,\n",
       " 'I': 32,\n",
       " 'M': 33,\n",
       " 'A': 34,\n",
       " 'S': 35,\n",
       " 'B': 36,\n",
       " 'P': 37,\n",
       " 'H': 38,\n",
       " 'W': 39,\n",
       " 'C': 40,\n",
       " 'N': 41,\n",
       " 'G': 42,\n",
       " 'x': 43,\n",
       " 'R': 44,\n",
       " 'L': 45,\n",
       " 'E': 46,\n",
       " 'D': 47,\n",
       " 'F': 48,\n",
       " '0': 49,\n",
       " '1': 50,\n",
       " 'j': 51,\n",
       " 'O': 52,\n",
       " 'q': 53,\n",
       " '!': 54,\n",
       " 'U': 55,\n",
       " '(': 56,\n",
       " 'K': 57,\n",
       " '?': 58,\n",
       " 'z': 59,\n",
       " '3': 60,\n",
       " ')': 61,\n",
       " '9': 62,\n",
       " ';': 63,\n",
       " 'V': 64,\n",
       " '2': 65,\n",
       " 'J': 66,\n",
       " 'Y': 67,\n",
       " ':': 68,\n",
       " '5': 69,\n",
       " '8': 70,\n",
       " '4': 71,\n",
       " '6': 72,\n",
       " '#': 73,\n",
       " '&': 74,\n",
       " '7': 75,\n",
       " '/': 76,\n",
       " 'Q': 77,\n",
       " 'X': 78,\n",
       " '*': 79,\n",
       " 'Z': 80,\n",
       " '+': 81}"
      ]
     },
     "execution_count": 11,
     "metadata": {},
     "output_type": "execute_result"
    }
   ],
   "source": [
    "# get mapping before splitting dataset\n",
    "char_to_idx_mapping = uniqueCharsByMostCommon(data)\n",
    "char_to_idx_mapping"
   ]
  },
  {
   "cell_type": "code",
   "execution_count": 12,
   "metadata": {},
   "outputs": [],
   "source": [
    "class HandWritingDataset(Dataset):\n",
    "    def __init__(self, data: pd.DataFrame, data_path, img_width, img_height, char_to_idx_mapping: dict, max_label_size):\n",
    "        self.data = data\n",
    "        self.data_path = data_path\n",
    "        self.img_width = img_width\n",
    "        self.img_height = img_height\n",
    "        self.label_size = max_label_size\n",
    "\n",
    "        self.char_to_idx_mapping = char_to_idx_mapping\n",
    "        self.idx_to_char_mapping = {value: key for key, value in self.char_to_idx_mapping.items()}\n",
    "\n",
    "        self.createLabelEncodings()\n",
    "        self.reshapeAndStoreImages()\n",
    "\n",
    "        # calc mean and std of images combines for standardization\n",
    "        mean, std = self.calcImagesMeanStd()\n",
    "        # normalize transform (used when indexing image)\n",
    "        self.normalize = tv.transforms.Normalize(mean, std)\n",
    "\n",
    "    def createLabelEncodings(self):\n",
    "        # change character level strings to embed indices \n",
    "        #   (embedding itself calculated in forward pass)\n",
    "        self.labels_as_idxs = [torch.tensor([[self.char_to_idx_mapping[char]] for char in label]) for label in data['labels']]   \n",
    "        # add <EOS> tokens at the end of sentences\n",
    "        self.labels_as_idxs = [torch.cat([label, torch.tensor([[self.char_to_idx_mapping['<EOS>']]])]) for label in self.labels_as_idxs]\n",
    "        # input into decoder shifted right (while training) and <BOS> token inserted at start\n",
    "        self.decoder_input_as_idxs = [torch.cat([torch.tensor([[self.char_to_idx_mapping['<BOS>']]]), label]) for label in self.labels_as_idxs]\n",
    "        \n",
    "        # pad labels embedding indices to largest label length with <PAD> token\n",
    "        self.labels_as_idxs = [F.pad(label, (0, 0, 0, self.label_size - label.shape[0]), mode = 'constant', value = self.char_to_idx_mapping['<PAD>']) \\\n",
    "                               for label in self.labels_as_idxs]\n",
    "        \n",
    "        # pad decoder input char embedding indices to largest label length with <PAD> tokens \n",
    "        self.decoder_input_as_idxs = [F.pad(label, (0, 0, 0, self.label_size - label.shape[0]), mode = 'constant', value = self.char_to_idx_mapping['<PAD>']) \\\n",
    "                               for label in self.decoder_input_as_idxs]\n",
    "        \n",
    "        # transform target labels into one hot encoding vectors\n",
    "        self.labels_as_onehot =  [F.one_hot(label, num_classes = len(self.char_to_idx_mapping)) for label in self.labels_as_idxs]        \n",
    "\n",
    "    # reshapes + pads the images to the correct input width and height\n",
    "    def reshapeAndStoreImages(self):\n",
    "        self.images = []\n",
    "\n",
    "        for image_name in self.data['img_names']:\n",
    "            # read image\n",
    "            image = read_image(os.path.join(self.data_path, \"img\", image_name))\n",
    "            # resize + pad image to correct input size\n",
    "            resized_padded = resizeImage(image, self.img_width, self.img_height)\n",
    "            # store in list of tensors\n",
    "            self.images.append(resized_padded)\n",
    "\n",
    "            \n",
    "    # Function to calc the mean and std of a dataset to use in image standardization \n",
    "    def calcImagesMeanStd(self):\n",
    "        running_mean = 0\n",
    "        running_std = 0\n",
    "\n",
    "        for image in self.images:\n",
    "            mean = torch.mean(image.float())\n",
    "            std = torch.std(image.float())\n",
    "\n",
    "            running_mean += mean\n",
    "            running_std += std\n",
    "\n",
    "        return (running_mean / len(self.images)), (running_std / len(self.images))\n",
    "    \n",
    "    # transforms done in __getitem__ so that images can be stored as Byte tensors (-> less memory and kernel does not crash)\n",
    "    def __getitem__(self, index):\n",
    "        # image\n",
    "        image = self.images[index].float()\n",
    "        # standardize image\n",
    "        image = self.normalize(image)\n",
    "        # paper adds gaussian noise to image (sqrt(0.1) * rand from gaussian distri)\n",
    "        image += ((0.1**0.5) * torch.randn(image.shape)) * 0.75\n",
    "\n",
    "        # label\n",
    "        label = self.labels_as_onehot[index]\n",
    "        # label shifted right\n",
    "        decoder_in = self.decoder_input_as_idxs[index]\n",
    "\n",
    "        # image = tensor, label = one hot encoded target characters, decoder_in = label shifted right as indices for embedding table\n",
    "        return image, label, decoder_in\n",
    "\n",
    "    def __len__(self):\n",
    "        # return length of column\n",
    "        return len(self.data)"
   ]
  },
  {
   "attachments": {},
   "cell_type": "markdown",
   "metadata": {},
   "source": [
    "Create datasets and dataloaders"
   ]
  },
  {
   "cell_type": "code",
   "execution_count": 13,
   "metadata": {},
   "outputs": [],
   "source": [
    "# datasets\n",
    "train_set = HandWritingDataset(train, DATA_PATH, input_width, INPUT_HEIGHT, char_to_idx_mapping, longest_label)\n",
    "test_set = HandWritingDataset(test, DATA_PATH, input_width, INPUT_HEIGHT, char_to_idx_mapping, longest_label)\n",
    "\n",
    "# dataloaders\n",
    "train_loader = DataLoader(train_set, batch_size = BATCH_SIZE, shuffle = True)\n",
    "test_loader = DataLoader(test_set, batch_size = BATCH_SIZE, shuffle = True)"
   ]
  },
  {
   "attachments": {},
   "cell_type": "markdown",
   "metadata": {},
   "source": [
    "### Model "
   ]
  },
  {
   "attachments": {},
   "cell_type": "markdown",
   "metadata": {},
   "source": [
    "Sinusodial positional encoding  \n",
    "(can be changed to nn.embedding layers if we don't get good results, however that is not exactly sinusodial pos encoding like in the paper I think)\n",
    "\n",
    "<!-- **CHANGED TO NN.EMBEDDING IN MODEL**   -->"
   ]
  },
  {
   "cell_type": "code",
   "execution_count": null,
   "metadata": {},
   "outputs": [],
   "source": [
    "class SinPosEncoding(nn.Module):\n",
    "    def __init__(self, dimensionality):\n",
    "        super(SinPosEncoding, self).__init__()\n",
    "        self.dims = dimensionality\n",
    "        self.max_len = 1000\n",
    "\n",
    "        # position vector\n",
    "        positions = torch.arange(0, self.max_len).unsqueeze(1)\n",
    "        # calculate added angle for sin/cos\n",
    "        angle = torch.exp(torch.arange(0, self.dims, 1) * (-np.log(10000.0) / self.dims))\n",
    "\n",
    "        # initialize the 2D positional encodings array\n",
    "        pos_encodings = torch.zeros(self.max_len, 1, self.dims)\n",
    "        # calucalte encodings\n",
    "        pos_encodings = torch.sin(positions * angle)\n",
    "        # pos_encodings[:, 0, :] = torch.sin(positions * angle)\n",
    "\n",
    "        # add to buffer for training performance (?)\n",
    "        self.register_buffer('pos_encodings', pos_encodings)\n",
    "\n",
    "    \n",
    "    def forward(self, input: torch.Tensor):\n",
    "        print(\"\\n\", input.shape)\n",
    "        print(self.pos_encodings.shape)\n",
    "        # adds the positional encoding elementwise to the tensor (seqlength, batch, embeddims)\n",
    "        input += self.pos_encodings[0:input.size(1)]\n",
    "        print(\"succes\\n\")\n",
    "\n",
    "        return input"
   ]
  },
  {
   "attachments": {},
   "cell_type": "markdown",
   "metadata": {},
   "source": [
    "Model architecture"
   ]
  },
  {
   "cell_type": "code",
   "execution_count": null,
   "metadata": {},
   "outputs": [],
   "source": [
    "class HWRTransformer(nn.Module):\n",
    "    def __init__(self, input_width, input_height, total_nr_of_tokens, longest_label):\n",
    "        super(HWRTransformer, self).__init__()\n",
    "        # generate target mask for decoder (can be reused as target sequences are padded to same length (probably?))\n",
    "        self.target_mask = self.make_target_mask(longest_label)\n",
    "\n",
    "        # convolutional block (5 convolutions)\n",
    "        # first convolution\n",
    "        self.conv1 = nn.Conv2d(in_channels = 1, out_channels = 8, kernel_size = (3,3))\n",
    "        width = input_width - 2\n",
    "        height = input_height - 2\n",
    "        self.leakyRelu = nn.LeakyReLU()     # reuse in later layers\n",
    "        self.maxPool = nn.MaxPool2d((2,2))  # reuse in later layers\n",
    "        width = int(np.floor(width/2))\n",
    "        height = int(np.floor(height/2))\n",
    "        self.layerNorm1 = nn.LayerNorm(normalized_shape = [8, height, width])\n",
    "        self.dropout = nn.Dropout(0.2)      # reuse in later layers\n",
    "\n",
    "        # second convolutional layer\n",
    "        self.conv2 = nn.Conv2d(in_channels = 8, out_channels = 16, kernel_size = (3, 3))\n",
    "        width -= 2\n",
    "        height -= 2\n",
    "        # after maxpool\n",
    "        width = int(np.floor(width/2))\n",
    "        height = int(np.floor(height/2))\n",
    "        self.layerNorm2 = nn.LayerNorm(normalized_shape = [16, height, width])\n",
    "\n",
    "\n",
    "        # third convolutional layer\n",
    "        self.conv3 = nn.Conv2d(in_channels = 16, out_channels = 32, kernel_size = (3, 3))\n",
    "        width -= 2\n",
    "        height -= 2\n",
    "        # after maxpool\n",
    "        width = int(np.floor(width/2))\n",
    "        height = int(np.floor(height/2))\n",
    "        self.layerNorm3 = nn.LayerNorm(normalized_shape = [32, height, width])\n",
    "\n",
    "        # forth convolutional layer\n",
    "        self.conv4 = nn.Conv2d(in_channels = 32, out_channels = 64, kernel_size = (3, 3))\n",
    "        width -= 2\n",
    "        height -= 2\n",
    "        # no maxpool\n",
    "        self.layerNorm4 = nn.LayerNorm(normalized_shape = [64, height, width])\n",
    "\n",
    "        # fifth convolutional layer (kernel size to better match shape of character)\n",
    "        self.conv5 = nn.Conv2d(in_channels = 64, out_channels = 128, kernel_size = (4, 2))\n",
    "        width -= 1\n",
    "        height -= 3\n",
    "        # no maxpool\n",
    "        self.layerNorm5 = nn.LayerNorm(normalized_shape = [128, height, width])\n",
    "\n",
    "        # following is convolution with width 1 which is used to flatten the current output\n",
    "        self.flattenConv = nn.Conv2d(in_channels = 128, out_channels = 128, kernel_size = (height, 1))\n",
    "        self.layerNorm6 = nn.LayerNorm(normalized_shape = [128, 1, width])\n",
    "\n",
    "        # dense layer to upscale from 128 to 256\n",
    "        self.dense1 = nn.Linear(in_features = 128, out_features = 256)\n",
    "        # sinusoidal positional encoding is added to the output of the dense layer\n",
    "        self.encoder_pos_encoding = SinPosEncoding(dimensionality = 256)\n",
    "\n",
    "        # transformer encoder layers (4 stacked transformer encoder layers (4 headed attention))\n",
    "        self.trans_encoder1 = nn.TransformerEncoderLayer(d_model = 256, nhead = 4, dim_feedforward = 1024, dropout = 0.2)\n",
    "        self.trans_encoder2 = nn.TransformerEncoderLayer(d_model = 256, nhead = 4, dim_feedforward = 1024, dropout = 0.2)\n",
    "        self.trans_encoder3 = nn.TransformerEncoderLayer(d_model = 256, nhead = 4, dim_feedforward = 1024, dropout = 0.2)\n",
    "        self.trans_encoder4 = nn.TransformerEncoderLayer(d_model = 256, nhead = 4, dim_feedforward = 1024, dropout = 0.2)\n",
    "\n",
    "        # dense layer for backprop CTC Loss of intermediate encoder result\n",
    "        self.encoder_out_dense = nn.Linear(256, total_nr_of_tokens)\n",
    "\n",
    "        # Here starts: decoder\n",
    "        # character embedding (dim rule of thumb -> 4th sqrt of nr_embeddings: for ~80 = 3) \n",
    "        #      NOTE: wrong, appearantly dims (encoder output, target embedding) need to be the same\n",
    "        # <PAD> embedding idx = 0\n",
    "        self.char_embedding = nn.Embedding(total_nr_of_tokens, 256, padding_idx = 0)\n",
    "        # positional embedding of decoder input sequence\n",
    "        self.decoder_pos_encoding = SinPosEncoding(dimensionality = 256)\n",
    "\n",
    "        # transformer decoder layers (4 stacked transformer encoder layers (4 headed attention))\n",
    "        self.trans_decoder1 = nn.TransformerDecoderLayer(d_model = 256, nhead = 4, dim_feedforward = 1024, dropout = 0.2)\n",
    "        self.trans_decoder2 = nn.TransformerDecoderLayer(d_model = 256, nhead = 4, dim_feedforward = 1024, dropout = 0.2)\n",
    "        self.trans_decoder3 = nn.TransformerDecoderLayer(d_model = 256, nhead = 4, dim_feedforward = 1024, dropout = 0.2)\n",
    "        self.trans_decoder4 = nn.TransformerDecoderLayer(d_model = 256, nhead = 4, dim_feedforward = 1024, dropout = 0.2)\n",
    "\n",
    "        self.decoder_out_dense = nn.Linear(256, total_nr_of_tokens)\n",
    "    \n",
    "    # create a target mask for decoder input\n",
    "    #   masks the future target characters from being seen by the model before they should\n",
    "    def make_target_mask(self, size):\n",
    "        mask = torch.zeros((size, size), dtype = torch.float32)\n",
    "        \n",
    "        for i in range(size):\n",
    "            for j in range(size):\n",
    "                if (j > i):\n",
    "                    mask[i][j] = float('-inf')\n",
    "        return mask\n",
    "    \n",
    "    # first forward call: interm_outputs shoudl be a tensor with the embedding of <BOS>\n",
    "    def forward(self, input_img, decoder_in_idxs):\n",
    "        # through 5 convolutional layers\n",
    "        # first conv\n",
    "        print(\"start forward\")\n",
    "        encoder_out = self.layerNorm1(self.maxPool(self.leakyRelu(self.conv1(input_img))))\n",
    "        encoder_out = self.dropout(encoder_out)\n",
    "        # second conv\n",
    "        encoder_out = self.layerNorm2(self.maxPool(self.leakyRelu(self.conv2(encoder_out))))\n",
    "        encoder_out = self.dropout(encoder_out)\n",
    "        # third conv\n",
    "        encoder_out = self.layerNorm3(self.maxPool(self.leakyRelu(self.conv3(encoder_out))))\n",
    "        encoder_out = self.dropout(encoder_out)\n",
    "        # forth conv\n",
    "        encoder_out = self.layerNorm4(self.leakyRelu(self.conv4(encoder_out)))\n",
    "        # fifth conv\n",
    "        encoder_out = self.layerNorm5(self.leakyRelu(self.conv5(encoder_out)))\n",
    "\n",
    "        # flatten layer\n",
    "        encoder_out = self.layerNorm6(self.leakyRelu(self.flattenConv(encoder_out)))\n",
    "\n",
    "        # dense layer (activation function not mentioned in paper) \n",
    "        # needs reshaped tensor where dims are reversed ((batch, 128, 1, x) -> (batch, x, 1, 128))\n",
    "        encoder_out = torch.reshape(encoder_out, (encoder_out.size(0), encoder_out.size(3), encoder_out.size(2), encoder_out.size(1)))\n",
    "        encoder_out = self.dense1(encoder_out)\n",
    "\n",
    "        print(\"conv out succes\")\n",
    "\n",
    "        # add sinusodial positional information\n",
    "        # needs reshape (batch, seq_len, 1, 256) -> (seq_len, batch, 256)  \n",
    "        encoder_out = torch.reshape(encoder_out, (encoder_out.size(1), encoder_out.size(0), encoder_out.size(3)))\n",
    "        encoder_out = self.encoder_pos_encoding(encoder_out)\n",
    "\n",
    "        print(\"pos encoding conv out succes\")\n",
    "        print(encoder_out.shape)\n",
    "        # encoder_out = encoder_out[:, 0, :]\n",
    "        # encoder_out = torch.reshape(encoder_out, (encoder_out.size(0), 1, encoder_out.size(1)))\n",
    "        # print(encoder_out.shape)\n",
    "        \n",
    "\n",
    "        # transformer encoder layers\n",
    "        encoder_out = self.trans_encoder1(encoder_out)\n",
    "        encoder_out = self.trans_encoder2(encoder_out)\n",
    "        encoder_out = self.trans_encoder3(encoder_out)\n",
    "        encoder_out = self.trans_encoder4(encoder_out)\n",
    "\n",
    "        print(\"encoder out succes\")\n",
    "\n",
    "        # dense layer for intermediate output of decoder (CTC Loss)\n",
    "        interm_encoder_out = self.encoder_out_dense(encoder_out)\n",
    "\n",
    "        print(\"encoder dense out succes\")\n",
    "\n",
    "        # add sinusodial positional information again\n",
    "        encoder_out = self.encoder_pos_encoding(encoder_out)\n",
    "\n",
    "        print(\"pos encoding encoder out succes\")\n",
    "        # target sequence (shifted right (so with <BOS> token))\n",
    "        # print(self.char_embedding)\n",
    "        decoder_in = self.char_embedding(decoder_in_idxs)\n",
    "        # sys.exit()\n",
    "        \n",
    "        print(\"char embedding succes\")\n",
    "\n",
    "        # add sinusoidal positional information to decoder input\n",
    "        decoder_in = self.decoder_pos_encoding(decoder_in)\n",
    "        \n",
    "        print(\"pos encoding decoder in succes\")\n",
    "\n",
    "        # input encoder output and predicted chars into decoder\n",
    "        decoder_out = self.trans_decoder1(decoder_in, encoder_out, self.target_mask)\n",
    "        decoder_out = self.trans_decoder2(decoder_out, encoder_out, self.target_mask)\n",
    "        decoder_out = self.trans_decoder3(decoder_out, encoder_out, self.target_mask)\n",
    "        decoder_out = self.trans_decoder4(decoder_out, encoder_out, self.target_mask)\n",
    "\n",
    "        print(\"decoder out succes\")\n",
    "\n",
    "        # dense layer after decoder to predict one of all tokens (CE Loss)\n",
    "        decoder_out = self.decoder_out_dense(decoder_out)\n",
    "\n",
    "        print(\"decoder dense out succes\")\n",
    "\n",
    "        return interm_encoder_out, decoder_out"
   ]
  },
  {
   "attachments": {},
   "cell_type": "markdown",
   "metadata": {},
   "source": [
    "### Initialize transformer model"
   ]
  },
  {
   "cell_type": "code",
   "execution_count": null,
   "metadata": {},
   "outputs": [],
   "source": [
    "hwr_transformer = HWRTransformer(input_width, INPUT_HEIGHT, len(char_to_idx_mapping), longest_label)"
   ]
  },
  {
   "attachments": {},
   "cell_type": "markdown",
   "metadata": {},
   "source": [
    "### Test with one image"
   ]
  },
  {
   "cell_type": "code",
   "execution_count": null,
   "metadata": {},
   "outputs": [
    {
     "name": "stdout",
     "output_type": "stream",
     "text": [
      "Label text:\n",
      "-> side. 'Old fashioned fivers!' he muttered again, and\n",
      "image tensor shape:\n",
      "-> torch.Size([1, 128, 2260])\n",
      "one hot label shape:\n",
      "-> torch.Size([56, 1, 82])\n",
      "label shifted right embedding index tensor shape:\n",
      "-> torch.Size([56, 1])\n",
      "conv out succes\n",
      "\n",
      " torch.Size([277, 1, 256])\n",
      "torch.Size([1000, 256])\n",
      "succes\n",
      "\n",
      "pos encoding conv out succes\n",
      "torch.Size([277, 1, 256])\n",
      "torch.Size([277, 1, 256])\n",
      "encoder out succes\n",
      "encoder dense out succes\n",
      "\n",
      " torch.Size([277, 1, 256])\n",
      "torch.Size([1000, 256])\n",
      "succes\n",
      "\n",
      "pos encoding encoder out succes\n",
      "char embedding succes\n",
      "\n",
      " torch.Size([56, 1, 256])\n",
      "torch.Size([1000, 256])\n",
      "succes\n",
      "\n",
      "pos encoding decoder in succes\n",
      "decoder out succes\n",
      "decoder dense out succes\n",
      "\n",
      "Shape of output of encoder (CTC Loss):\n",
      "-> torch.Size([277, 1, 82])\n",
      "Shape of decoder output (CE Loss):\n",
      "-> torch.Size([56, 1, 82])\n"
     ]
    },
    {
     "data": {
      "image/png": "[encoded data removed]",
      "text/plain": [
       "<Figure size 640x480 with 1 Axes>"
      ]
     },
     "metadata": {},
     "output_type": "display_data"
    }
   ],
   "source": [
    "# test image as tensor, test label as one hot encoded target characters, labels shifted right as indices for embedding table\n",
    "test_image, test_label_one_hot, label_shifted_right_idxs = train_set[2]\n",
    "print(\"Label text:\\n->\", train_set.data['labels'][2])\n",
    "print(\"image tensor shape:\\n->\", test_image.shape)\n",
    "print(\"one hot label shape:\\n->\", test_label_one_hot.shape)\n",
    "# torch.set_printoptions(threshold=10000)\n",
    "# print(test_label_one_hot)\n",
    "print(\"label shifted right embedding index tensor shape:\\n->\", label_shifted_right_idxs.shape)\n",
    "\n",
    "# create \"batch\" with single image\n",
    "test_image_batch = test_image.unsqueeze(0)\n",
    "\n",
    "plt.imshow(test_image_batch[0, 0, :, :], cmap = \"gray\")\n",
    "\n",
    "# test label = <BOS> *sentence in tokens* <EOS> <PAD> <PAD> ... \n",
    "out1, out2 = hwr_transformer(test_image_batch, label_shifted_right_idxs)\n",
    "print(\"\\nShape of output of encoder (CTC Loss):\\n->\", out1.shape)\n",
    "print(\"Shape of decoder output (CE Loss):\\n->\", out2.shape)"
   ]
  },
  {
   "attachments": {},
   "cell_type": "markdown",
   "metadata": {},
   "source": [
    "### Define hybrid loss"
   ]
  },
  {
   "cell_type": "code",
   "execution_count": null,
   "metadata": {},
   "outputs": [],
   "source": [
    "class HybridLoss(nn.Module):\n",
    "    def __init__(self, balance):\n",
    "        super(HybridLoss, self).__init__()\n",
    "        # allignment probabilities over encoded input sequence and target sequence \n",
    "        self.interm_CTCloss = nn.CTCLoss()\n",
    "        # difference between decodeced input sequence and target sequence\n",
    "        self.output_CELoss = nn.CrossEntropyLoss()\n",
    "\n",
    "        # balance between CTC Loss and CE Loss (R: [0, 1])\n",
    "        if balance < 0 or balance > 1:\n",
    "            raise ValueError(\"Balance should be a value between 0 (only output CELoss) and 1 (only intermediate CTCLoss)\")\n",
    "        self.balance = balance\n",
    "\n",
    "    def setBalance(self, balance):\n",
    "        self.balance = balance\n",
    "\n",
    "    def forward(self, encoder_output, encoder_target, decoder_output, decoder_target):\n",
    "        interm_loss = self.interm_CTCloss(encoder_output, encoder_target)\n",
    "        output_loss = self.output_CELoss(decoder_output, decoder_target)\n",
    "        \n",
    "        return (self.balance * interm_loss + (1 - self.balance) * output_loss)"
   ]
  },
  {
   "cell_type": "code",
   "execution_count": null,
   "metadata": {},
   "outputs": [],
   "source": [
    "# in the paper they only used balance to test efficiousness of the hybrid loss, \n",
    "#   and train with a balance of 0.5\n",
    "hybrid_loss_func = HybridLoss(0.5)"
   ]
  },
  {
   "attachments": {},
   "cell_type": "markdown",
   "metadata": {},
   "source": [
    "### Define optimizer"
   ]
  },
  {
   "cell_type": "code",
   "execution_count": null,
   "metadata": {},
   "outputs": [],
   "source": [
    "optimizer = optim.Adam(hwr_transformer.parameters(), lr = 0.0001)"
   ]
  },
  {
   "attachments": {},
   "cell_type": "markdown",
   "metadata": {},
   "source": [
    "### Define train loop"
   ]
  },
  {
   "cell_type": "code",
   "execution_count": null,
   "metadata": {},
   "outputs": [],
   "source": [
    "def train(model, train_loader, test_loader, loss_func, optim, epochs):\n",
    "    train_losses = []\n",
    "    test_losses = []\n",
    "    \n",
    "    for epoch in range(epochs):\n",
    "        running_loss_train = 0 \n",
    "        running_loss_test = 0\n",
    "        \n",
    "        # train\n",
    "        for i, data in enumerate(train_loader):\n",
    "            # batched inputs (encoder = images, decoder = labels_shifted_rigth) and labels\n",
    "            images, one_hot_labels, label_shifted_right_idxs = data\n",
    "            \n",
    "            # zero gradients before any calculations\n",
    "            optimizer.zero_grad()\n",
    "            \n",
    "            # predict\n",
    "            print(images.shape, label_shifted_right_idxs.shape)\n",
    "            interm_outputs, decoder_outputs = model(images, label_shifted_right_idxs)\n",
    "            \n",
    "            # TODO: calc loss \n",
    "            # loss = loss_func()\n",
    "            \n",
    "            # take step along loss gradients\n",
    "            # optimizer.step()\n",
    "            \n",
    "            # add to running loss\n",
    "            # running_loss_train += loss.item()\n",
    "        \n",
    "        # test\n",
    "        with torch.no_grad():\n",
    "            for i, data in enumerate(test_loader):\n",
    "                # batched inputs (encoder = images, decoder = labels_shifted_rigth) and labels\n",
    "                images, one_hot_labels, label_shifted_right_idxs = data\n",
    "                \n",
    "                # predict\n",
    "                interm_outputs, decoder_outputs = model(images, label_shifted_right_idxs)\n",
    "                \n",
    "                # TODO: calc loss \n",
    "                # loss = loss_func()\n",
    "                \n",
    "                # add to running loss\n",
    "                # running_loss_test += loss.item()\n",
    "            \n",
    "        # add to loss value lists\n",
    "        # train_losses.append(running_loss_train / len(train_loader))\n",
    "        # test_losses.append(running_loss_test / len(test_loader))\n",
    "        \n",
    "    # return train_losses, test_losses"
   ]
  },
  {
   "attachments": {},
   "cell_type": "markdown",
   "metadata": {},
   "source": [
    "### Train the model"
   ]
  },
  {
   "cell_type": "code",
   "execution_count": null,
   "metadata": {},
   "outputs": [
    {
     "name": "stdout",
     "output_type": "stream",
     "text": [
      "torch.Size([64, 1, 128, 2260]) torch.Size([64, 56, 1])\n"
     ]
    },
    {
     "ename": "",
     "evalue": "",
     "output_type": "error",
     "traceback": [
      "\u001b[1;31mCanceled future for execute_request message before replies were done"
     ]
    },
    {
     "ename": "",
     "evalue": "",
     "output_type": "error",
     "traceback": [
      "\u001b[1;31mThe Kernel crashed while executing code in the the current cell or a previous cell. Please review the code in the cell(s) to identify a possible cause of the failure. Click <a href='https://aka.ms/vscodeJupyterKernelCrash'>here</a> for more info. View Jupyter <a href='command:jupyter.viewOutput'>log</a> for further details."
     ]
    }
   ],
   "source": [
    "train(hwr_transformer, train_loader, test_loader, hybrid_loss_func, optimizer, EPOCHS)"
   ]
  }
 ],
 "metadata": {
  "kernelspec": {
   "display_name": "Python 3",
   "language": "python",
   "name": "python3"
  },
  "language_info": {
   "codemirror_mode": {
    "name": "ipython",
    "version": 3
   },
   "file_extension": ".py",
   "mimetype": "text/x-python",
   "name": "python",
   "nbconvert_exporter": "python",
   "pygments_lexer": "ipython3",
   "version": "3.8.10"
  },
  "orig_nbformat": 4
 },
 "nbformat": 4,
 "nbformat_minor": 2
}
