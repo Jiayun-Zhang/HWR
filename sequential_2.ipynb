{
 "cells": [
  {
   "cell_type": "code",
   "execution_count": 31,
   "id": "216368ae",
   "metadata": {},
   "outputs": [],
   "source": [
    "# Common\n",
    "import os\n",
    "import numpy as np\n",
    "import tensorflow as tf\n",
    "import pandas as pd\n",
    "import cv2\n",
    "import random\n",
    "\n",
    "# Data Splite\n",
    "from sklearn.model_selection import train_test_split\n",
    "\n",
    "# Models \n",
    "from keras.models import Sequential\n",
    "from keras.layers import Dense, Dropout, Flatten\n",
    "from keras.layers import Conv2D, MaxPooling2D,AveragePooling2D\n",
    "from keras.utils import np_utils\n",
    "import sklearn.metrics as metrics\n",
    "\n",
    "\n",
    "# Plot\n",
    "from  matplotlib import pyplot as plt\n",
    "import matplotlib.image as mpimg\n",
    "%matplotlib inline\n",
    "import seaborn as sns\n",
    "from sklearn.metrics import confusion_matrix"
   ]
  },
  {
   "cell_type": "code",
   "execution_count": 15,
   "id": "377204e1",
   "metadata": {},
   "outputs": [],
   "source": [
    "IMG_WIDTH=28\n",
    "IMG_HEIGHT=28\n",
    "img_folder=r'C:\\Users\\16645\\Desktop\\HWR\\monkbrill2'"
   ]
  },
  {
   "cell_type": "code",
   "execution_count": 16,
   "id": "fa0578d5",
   "metadata": {},
   "outputs": [],
   "source": [
    "def create_dataset(img_folder):\n",
    "   \n",
    "    img_data_array= []\n",
    "    class_name=[]\n",
    "   \n",
    "    for dir1 in os.listdir(img_folder):\n",
    "        for file in os.listdir(os.path.join(img_folder, dir1)):\n",
    "            image_path= os.path.join(img_folder, dir1,  file)\n",
    "            image= cv2.imread(image_path, -1)\n",
    "            image=cv2.resize(image, (IMG_HEIGHT, IMG_WIDTH),interpolation = cv2.INTER_AREA)\n",
    "            image=np.array(image)\n",
    "            image = image.astype('float32')\n",
    "            image /= 255 \n",
    "            img_data_array.append(image)\n",
    "            class_name.append(dir1)\n",
    "    return img_data_array, class_name\n",
    "# extract the image array and class name\n",
    "img_data, class_name =create_dataset(r'C:\\Users\\16645\\Desktop\\HWR\\monkbrill2')"
   ]
  },
  {
   "cell_type": "code",
   "execution_count": 17,
   "id": "992dde2f",
   "metadata": {},
   "outputs": [],
   "source": [
    "x = np.array(img_data, np.float32)"
   ]
  },
  {
   "cell_type": "code",
   "execution_count": 18,
   "id": "f03a29d4",
   "metadata": {},
   "outputs": [
    {
     "data": {
      "text/plain": [
       "{'Alef': 0,\n",
       " 'Ayin': 1,\n",
       " 'Bet': 2,\n",
       " 'Dalet': 3,\n",
       " 'Gimel': 4,\n",
       " 'He': 5,\n",
       " 'Het': 6,\n",
       " 'Kaf': 7,\n",
       " 'Kaf-final': 8,\n",
       " 'Lamed': 9,\n",
       " 'Mem': 10,\n",
       " 'Mem-medial': 11,\n",
       " 'Nun-final': 12,\n",
       " 'Nun-medial': 13,\n",
       " 'Pe': 14,\n",
       " 'Pe-final': 15,\n",
       " 'Qof': 16,\n",
       " 'Resh': 17,\n",
       " 'Samekh': 18,\n",
       " 'Shin': 19,\n",
       " 'Taw': 20,\n",
       " 'Tet': 21,\n",
       " 'Tsadi-final': 22,\n",
       " 'Tsadi-medial': 23,\n",
       " 'Waw': 24,\n",
       " 'Yod': 25,\n",
       " 'Zayin': 26}"
      ]
     },
     "execution_count": 18,
     "metadata": {},
     "output_type": "execute_result"
    }
   ],
   "source": [
    "target_dict={k: v for v, k in enumerate(np.unique(class_name))}\n",
    "target_dict"
   ]
  },
  {
   "cell_type": "code",
   "execution_count": 19,
   "id": "fba2f661",
   "metadata": {},
   "outputs": [],
   "source": [
    "target_val=  [target_dict[class_name[i]] for i in range(len(class_name))]"
   ]
  },
  {
   "cell_type": "code",
   "execution_count": 47,
   "id": "1ff4f8e9",
   "metadata": {},
   "outputs": [
    {
     "name": "stdout",
     "output_type": "stream",
     "text": [
      "Model: \"sequential_2\"\n",
      "_________________________________________________________________\n",
      " Layer (type)                Output Shape              Param #   \n",
      "=================================================================\n",
      " conv2d_2 (Conv2D)           (None, 26, 26, 6)         60        \n",
      "                                                                 \n",
      " average_pooling2d_2 (Averag  (None, 13, 13, 6)        0         \n",
      " ePooling2D)                                                     \n",
      "                                                                 \n",
      " conv2d_3 (Conv2D)           (None, 11, 11, 16)        880       \n",
      "                                                                 \n",
      " average_pooling2d_3 (Averag  (None, 5, 5, 16)         0         \n",
      " ePooling2D)                                                     \n",
      "                                                                 \n",
      " flatten_1 (Flatten)         (None, 400)               0         \n",
      "                                                                 \n",
      " dense_3 (Dense)             (None, 120)               48120     \n",
      "                                                                 \n",
      " dense_4 (Dense)             (None, 84)                10164     \n",
      "                                                                 \n",
      " dense_5 (Dense)             (None, 27)                2295      \n",
      "                                                                 \n",
      "=================================================================\n",
      "Total params: 61,519\n",
      "Trainable params: 61,519\n",
      "Non-trainable params: 0\n",
      "_________________________________________________________________\n"
     ]
    }
   ],
   "source": [
    "model = Sequential()\n",
    "\n",
    "model.add(Conv2D(filters=6, kernel_size=(3, 3), activation='relu', input_shape=(28,28,1)))\n",
    "model.add(AveragePooling2D())\n",
    "\n",
    "model.add(Conv2D(filters=16, kernel_size=(3, 3), activation='relu'))\n",
    "model.add(AveragePooling2D())\n",
    "\n",
    "model.add(Flatten())\n",
    "\n",
    "model.add(Dense(units=120, activation='relu'))\n",
    "\n",
    "model.add(Dense(units=84, activation='relu'))\n",
    "\n",
    "model.add(Dense(units=27, activation = 'softmax'))\n",
    "model.summary()\n",
    "model.compile(optimizer='adam', loss='categorical_crossentropy', metrics=['accuracy'])"
   ]
  },
  {
   "cell_type": "code",
   "execution_count": 48,
   "id": "8a98242b",
   "metadata": {},
   "outputs": [],
   "source": [
    "X_train, X_test, y_train, y_test = train_test_split(x, y, train_size = 0.9) #90/10 split"
   ]
  },
  {
   "cell_type": "code",
   "execution_count": 49,
   "id": "e075f4df",
   "metadata": {},
   "outputs": [
    {
     "name": "stdout",
     "output_type": "stream",
     "text": [
      "Epoch 1/30\n",
      "39/39 - 2s - loss: 2.4545 - accuracy: 0.3994 - val_loss: 1.3809 - val_accuracy: 0.7148 - 2s/epoch - 61ms/step\n",
      "Epoch 2/30\n",
      "39/39 - 1s - loss: 1.0092 - accuracy: 0.7560 - val_loss: 0.8427 - val_accuracy: 0.7798 - 963ms/epoch - 25ms/step\n",
      "Epoch 3/30\n",
      "39/39 - 1s - loss: 0.7025 - accuracy: 0.8075 - val_loss: 0.6992 - val_accuracy: 0.8051 - 973ms/epoch - 25ms/step\n",
      "Epoch 4/30\n",
      "39/39 - 1s - loss: 0.5925 - accuracy: 0.8366 - val_loss: 0.6202 - val_accuracy: 0.8357 - 981ms/epoch - 25ms/step\n",
      "Epoch 5/30\n",
      "39/39 - 1s - loss: 0.5029 - accuracy: 0.8629 - val_loss: 0.5327 - val_accuracy: 0.8321 - 967ms/epoch - 25ms/step\n",
      "Epoch 6/30\n",
      "39/39 - 1s - loss: 0.4442 - accuracy: 0.8736 - val_loss: 0.4879 - val_accuracy: 0.8718 - 976ms/epoch - 25ms/step\n",
      "Epoch 7/30\n",
      "39/39 - 1s - loss: 0.3841 - accuracy: 0.8934 - val_loss: 0.4409 - val_accuracy: 0.8863 - 975ms/epoch - 25ms/step\n",
      "Epoch 8/30\n",
      "39/39 - 1s - loss: 0.3521 - accuracy: 0.8991 - val_loss: 0.4126 - val_accuracy: 0.8809 - 979ms/epoch - 25ms/step\n",
      "Epoch 9/30\n",
      "39/39 - 1s - loss: 0.3209 - accuracy: 0.9059 - val_loss: 0.3716 - val_accuracy: 0.8953 - 960ms/epoch - 25ms/step\n",
      "Epoch 10/30\n",
      "39/39 - 1s - loss: 0.2842 - accuracy: 0.9209 - val_loss: 0.3604 - val_accuracy: 0.9116 - 988ms/epoch - 25ms/step\n",
      "Epoch 11/30\n",
      "39/39 - 1s - loss: 0.2566 - accuracy: 0.9251 - val_loss: 0.3714 - val_accuracy: 0.9025 - 974ms/epoch - 25ms/step\n",
      "Epoch 12/30\n",
      "39/39 - 1s - loss: 0.2349 - accuracy: 0.9316 - val_loss: 0.3376 - val_accuracy: 0.9043 - 970ms/epoch - 25ms/step\n",
      "Epoch 13/30\n",
      "39/39 - 1s - loss: 0.2174 - accuracy: 0.9350 - val_loss: 0.3143 - val_accuracy: 0.9079 - 955ms/epoch - 24ms/step\n",
      "Epoch 14/30\n",
      "39/39 - 1s - loss: 0.2034 - accuracy: 0.9376 - val_loss: 0.3225 - val_accuracy: 0.9097 - 962ms/epoch - 25ms/step\n",
      "Epoch 15/30\n",
      "39/39 - 1s - loss: 0.1824 - accuracy: 0.9444 - val_loss: 0.3233 - val_accuracy: 0.9043 - 955ms/epoch - 24ms/step\n",
      "Epoch 16/30\n",
      "39/39 - 1s - loss: 0.1692 - accuracy: 0.9470 - val_loss: 0.3115 - val_accuracy: 0.9097 - 963ms/epoch - 25ms/step\n",
      "Epoch 17/30\n",
      "39/39 - 1s - loss: 0.1525 - accuracy: 0.9569 - val_loss: 0.3303 - val_accuracy: 0.9116 - 949ms/epoch - 24ms/step\n",
      "Epoch 18/30\n",
      "39/39 - 1s - loss: 0.1430 - accuracy: 0.9569 - val_loss: 0.2910 - val_accuracy: 0.9152 - 971ms/epoch - 25ms/step\n",
      "Epoch 19/30\n",
      "39/39 - 1s - loss: 0.1266 - accuracy: 0.9609 - val_loss: 0.3239 - val_accuracy: 0.9188 - 968ms/epoch - 25ms/step\n",
      "Epoch 20/30\n",
      "39/39 - 1s - loss: 0.1212 - accuracy: 0.9625 - val_loss: 0.3471 - val_accuracy: 0.8989 - 959ms/epoch - 25ms/step\n",
      "Epoch 21/30\n",
      "39/39 - 1s - loss: 0.1127 - accuracy: 0.9661 - val_loss: 0.3550 - val_accuracy: 0.9043 - 958ms/epoch - 25ms/step\n",
      "Epoch 22/30\n",
      "39/39 - 1s - loss: 0.0991 - accuracy: 0.9705 - val_loss: 0.3749 - val_accuracy: 0.8971 - 966ms/epoch - 25ms/step\n",
      "Epoch 23/30\n",
      "39/39 - 1s - loss: 0.0958 - accuracy: 0.9709 - val_loss: 0.3271 - val_accuracy: 0.9170 - 954ms/epoch - 24ms/step\n",
      "Epoch 24/30\n",
      "39/39 - 1s - loss: 0.0833 - accuracy: 0.9739 - val_loss: 0.3276 - val_accuracy: 0.9188 - 959ms/epoch - 25ms/step\n",
      "Epoch 25/30\n",
      "39/39 - 1s - loss: 0.0850 - accuracy: 0.9739 - val_loss: 0.3206 - val_accuracy: 0.9097 - 962ms/epoch - 25ms/step\n",
      "Epoch 26/30\n",
      "39/39 - 1s - loss: 0.0704 - accuracy: 0.9773 - val_loss: 0.3588 - val_accuracy: 0.9097 - 987ms/epoch - 25ms/step\n",
      "Epoch 27/30\n",
      "39/39 - 1s - loss: 0.0593 - accuracy: 0.9809 - val_loss: 0.3669 - val_accuracy: 0.9097 - 957ms/epoch - 25ms/step\n",
      "Epoch 28/30\n",
      "39/39 - 1s - loss: 0.0609 - accuracy: 0.9787 - val_loss: 0.3627 - val_accuracy: 0.9043 - 955ms/epoch - 24ms/step\n",
      "Epoch 29/30\n",
      "39/39 - 1s - loss: 0.0600 - accuracy: 0.9827 - val_loss: 0.3602 - val_accuracy: 0.9152 - 963ms/epoch - 25ms/step\n",
      "Epoch 30/30\n",
      "39/39 - 1s - loss: 0.0517 - accuracy: 0.9831 - val_loss: 0.3691 - val_accuracy: 0.9079 - 958ms/epoch - 25ms/step\n"
     ]
    }
   ],
   "source": [
    "from keras.utils.np_utils import *\n",
    "y = to_categorical(target_val)\n",
    "history = model.fit(x = X_train, y = y_train, batch_size=128, epochs=30, validation_data=(X_test, y_test),verbose = 2 )\n"
   ]
  },
  {
   "cell_type": "code",
   "execution_count": 50,
   "id": "79de4a97",
   "metadata": {},
   "outputs": [
    {
     "data": {
      "image/png": "[encoded data removed]",
      "text/plain": [
       "<Figure size 720x288 with 2 Axes>"
      ]
     },
     "metadata": {
      "needs_background": "light"
     },
     "output_type": "display_data"
    }
   ],
   "source": [
    "#Get Train/Validation -> accuracy and loss values for previous model trained\n",
    "accuracies = [model.history.history['accuracy'],model.history.history['val_accuracy']]\n",
    "losses = [model.history.history['loss'],model.history.history['val_loss']]\n",
    "\n",
    "fig, (ax1, ax2) = plt.subplots(nrows=1, ncols=2,figsize=(10,4))\n",
    "sns.lineplot(data=accuracies, ax=ax1)\n",
    "sns.lineplot(data=losses, ax=ax2)\n",
    "ax1.set(title = 'Model Accuracy', xlabel='Epochs', ylabel='Accuracy')\n",
    "ax2.set(title = 'Model Loss', xlabel='Epochs', ylabel='Loss')\n",
    "ax1.legend(['Train', 'Validation'], loc='upper left')\n",
    "ax2.legend(['Train', 'Validation'], loc='upper left')\n",
    "fig.subplots_adjust(top=0.85)"
   ]
  },
  {
   "cell_type": "code",
   "execution_count": 54,
   "id": "69fa059a",
   "metadata": {},
   "outputs": [
    {
     "name": "stdout",
     "output_type": "stream",
     "text": [
      "18/18 [==============================] - 0s 5ms/step - loss: 0.3691 - accuracy: 0.9079\n",
      "Test loss: 0.36906594038009644\n",
      "Test accuracy: 0.9079422354698181\n",
      "[[0. 0. 0. ... 0. 0. 0.]\n",
      " [0. 1. 0. ... 0. 0. 0.]\n",
      " [0. 0. 0. ... 0. 0. 0.]\n",
      " ...\n",
      " [0. 0. 0. ... 0. 0. 0.]\n",
      " [0. 0. 0. ... 0. 0. 0.]\n",
      " [0. 0. 0. ... 0. 0. 0.]]\n"
     ]
    }
   ],
   "source": [
    "# Model accuracy on Test Set\n",
    "test_loss, test_accuracy = model.evaluate(X_test, y_test)\n",
    "print(f\"Test loss: {test_loss}\")\n",
    "print(f\"Test accuracy: {test_accuracy}\")\n",
    "print(y_test)"
   ]
  },
  {
   "cell_type": "code",
   "execution_count": 55,
   "id": "0f72141d",
   "metadata": {},
   "outputs": [],
   "source": [
    "preds = model.predict(X_test)\n",
    "#Convert probabilities to class labels\n",
    "pred_classes = tf.argmax(preds, axis=1)\n",
    "y_test_classes = tf.argmax(y_test, axis=1)"
   ]
  },
  {
   "cell_type": "code",
   "execution_count": 57,
   "id": "6a4f7cac",
   "metadata": {},
   "outputs": [
    {
     "name": "stdout",
     "output_type": "stream",
     "text": [
      "tf.Tensor(\n",
      "[12  1 13  6 18  7  4 12  7  6 11 23 18 10  4  3 13  0 22  1 20  5  2  2\n",
      " 18 23  1  9  4 19 24 24 21 23  4 18  9 16  3  5 22  5  6  5 23 12 18 20\n",
      " 21  9 13  4 11 23 14  0 18 22 16  2  7  4 13 11  0 13 16 13 20 19 18 11\n",
      " 10 16  5 24 16 19  6 13  3 16 20 19  4 21  2 20  4  1 23  1  3  3 18 12\n",
      " 24 11  9 11 19 10 16 20 12 13 19  7  0 20 11 21 20  6 13 21  6 23  5  4\n",
      " 11 18 13  0  9 11 18 23 17 16  0 20  2 20  9 19  6 16 10 20  6 18 21  7\n",
      " 19  4 18 15 19  7 11 20 22 16 18 11 13 17  6  0 18 18  1 11 19  0 11 11\n",
      "  6 16 10 22 21  6  0 10  9  9 13  6  4  2 10 18  4 26 18  5  0  9  4 11\n",
      "  7  4  1 19  6 20 13 13  0 10 24  2  9 10 19  2  5 10 22  5  2 13  9  7\n",
      " 23  2 20 10 20 13 19 16  2 23 16 19  6  4 11 10 11 11  4  3  9  0 24 16\n",
      " 10 18 18 23 13  4 19  9  9 23  7 21  2 11  1 18  7  1 18 24 16 16 16  1\n",
      "  6  6  2  5  5  4  2 11 20  6 19  7  3  5 22  4 11  5  0  2  7 21  2 19\n",
      " 10 13  2  6 13 11  7 11  2 14 14 21 11  9 13 19  5 23  6  1  1  1  2  4\n",
      "  5  4 23  9  2  9  1 10 21 21  5 18 23  5  2 22 19 10 16 23  1  1 16 10\n",
      " 13 12 11  7  3 23 23 10 20  6 10 24 24 20 25  9 19 21 21 19  0 19  0 14\n",
      " 10 24 23  2  2 16 18  9  2 11  0  6  7 13  7 16 18 19  5 18 11  3 11  1\n",
      "  6  9 24  4 20 10 25  6 12 16  0 16 11  3 21 20 19  0  3 10  0 19 16  9\n",
      " 19  0 21 18 16 18 10 20  4 18  4  3 13 21 15 20 18 10  0 23 18  2 23 20\n",
      " 19  0 25 24 23 23  4  5 19  7 17 13 10 11  2  1 23 17  5  9 11 21 16 20\n",
      "  7  6 21  7  6 21 24  1 21  0  3 18 19 11 21 23 20 23 19 11  6  1  5 19\n",
      " 23 21 17  1  5 13  6 18 19  4  6 23 19  5 20 21  9 12  9 11  2 23 13  4\n",
      "  0 18 21 16  2  2 24  6  4  7 20  5 21  1 19  9 21 13 26  2 19  1 19 11\n",
      " 16  5 11 22 21 13  5 12 20 10  1 11  1 23 18  9  4 19  2  5 21 21  5 23\n",
      " 13  5], shape=(554,), dtype=int64)\n",
      "tf.Tensor(\n",
      "[12  1 13  6 18  7  4  8  7  6 11 23 18 18  4  4 13  0 22  1 20  5  2  2\n",
      " 18 23  1  9  4 19 24 12 10 23  4 18  9 16 17  5 22  5  6  5 23 10 18 20\n",
      " 21  9 13  4 11 23 14  0 18 24 16 11  7  4 13 11  0 13 16 13 20 19 18 11\n",
      " 10 22  5 24 16 19  6 13 17 16 20 19  4 21  2 20  4  1 23  1 17  3 18 12\n",
      " 24 11  9 11 19 10 16 20 12 13 19  7  0 20 21 21 20  6 13 21  6 23  5  4\n",
      " 11 18 13  0 13 11 18 23  3 16  0 20  5 20  9 19  6 16 10 20  6 18 21  7\n",
      " 19  4 18 15 19  7 11 20 22 16 18 11 13 17  6  0 18 18  1 11 19  0 11 11\n",
      "  6 16 18 22 21  6  0 10  9  9 13  6  4  2 10 18  4  9 18  5  0  9  4 11\n",
      "  7  4  1 19  6 20 13 13  0 10  3  2  9 10 19  2  5 10 22  5  2  2  9  7\n",
      " 23  2 20 10 20 13 19 16  2 23 16 19  6  4 11 10 11 11  4 17  9  0 24 16\n",
      " 10 19 21 23 13  4 19  9  9 23  7 21 11 11  1 18  7  1 18 12 16 16 16  1\n",
      "  6  6  2  5  5  4  2 11 20  6 19  7 17  6 22  4 11  5  0  2  7 21  2 19\n",
      " 10 13  2  6 13 18  7 11  2  2  7 21 11  9 13 19  5 23  6  1  1  1  2  4\n",
      "  5  9 23  9  4 18  1 10 21 21  5 18 23  5  2 22 19 10 16 23  1  1 16 10\n",
      " 13 24 18 10 17 23 23 10  6  6 10 24 12 20 25  9 19 21 21 19  0 19  0  7\n",
      " 10 24 23  2  2 16 18  9  2 11  0  6  7 13  7 16 18 19  5 18 18  3 11  1\n",
      "  6 23 24  4 20 10 25  6 12 16  0 16 11  3 21 20 19  0 17 10  0 19 16  9\n",
      " 19  0 21 18 16 18 10 20  4 18  4  3 13 21  3 20 18 10  0 23 16  2 23 20\n",
      " 19  0  4 24 23 23  4  5 19  7  3 13 10 11  2  1 23 17  5 13 11 21 16 20\n",
      "  7  6 21  7  6 21 24  1 21  0  3 18 19 11 21 23 20 23 19 11  6  1  5 19\n",
      " 23 21 17  1  5 13  6 18 19  4  6 23 19  5 20 21  9 12  9 11  2 23 13  4\n",
      "  0 18 21 16  2  2 12  6  4  7 20  5 21  1 19  9 21 13 26  2 19  1  1 11\n",
      " 16  5 11 22 21 13  5 12 20 10  1 11  1 23 18  9  4 19 10  5 21 21  5 23\n",
      " 13  5], shape=(554,), dtype=int64)\n"
     ]
    }
   ],
   "source": [
    "print(pred_classes)\n",
    "print(y_test_classes)"
   ]
  },
  {
   "cell_type": "code",
   "execution_count": 71,
   "id": "3051c34e",
   "metadata": {},
   "outputs": [
    {
     "data": {
      "image/png": "[encoded data removed]",
      "text/plain": [
       "<Figure size 432x288 with 2 Axes>"
      ]
     },
     "metadata": {
      "needs_background": "light"
     },
     "output_type": "display_data"
    }
   ],
   "source": [
    "#Plot confusion Matrix\n",
    "cm = confusion_matrix(y_test_classes, pred_classes)\n",
    "cm = cm.astype('float') / cm.sum(axis=1)[:, np.newaxis]\n",
    "f = sns.heatmap(cm, annot=False, fmt='.2f')"
   ]
  },
  {
   "cell_type": "code",
   "execution_count": 69,
   "id": "94c10538",
   "metadata": {},
   "outputs": [],
   "source": [
    "s1 = f.get_figure()\n",
    "s1.savefig('HeatMap.jpg',dpi=100)"
   ]
  },
  {
   "cell_type": "code",
   "execution_count": null,
   "id": "117ae7c1",
   "metadata": {},
   "outputs": [],
   "source": []
  }
 ],
 "metadata": {
  "kernelspec": {
   "display_name": "Python 3",
   "language": "python",
   "name": "python3"
  },
  "language_info": {
   "codemirror_mode": {
    "name": "ipython",
    "version": 3
   },
   "file_extension": ".py",
   "mimetype": "text/x-python",
   "name": "python",
   "nbconvert_exporter": "python",
   "pygments_lexer": "ipython3",
   "version": "3.7.9"
  }
 },
 "nbformat": 4,
 "nbformat_minor": 5
}
